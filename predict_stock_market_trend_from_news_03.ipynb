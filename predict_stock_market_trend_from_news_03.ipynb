{
  "nbformat": 4,
  "nbformat_minor": 0,
  "metadata": {
    "colab": {
      "name": "predict_stock_market_trend_from_news_03.ipynb",
      "provenance": []
    },
    "kernelspec": {
      "display_name": "Python 3",
      "name": "python3"
    },
    "language_info": {
      "name": "python"
    }
  },
  "cells": [
    {
      "cell_type": "code",
      "metadata": {
        "id": "WfdLnfcIi5Z_"
      },
      "source": [
        "import pandas as pd\n",
        "import re\n",
        "from sklearn.model_selection import train_test_split"
      ],
      "execution_count": 1,
      "outputs": []
    },
    {
      "cell_type": "code",
      "metadata": {
        "id": "azJFmCQwxVm_",
        "colab": {
          "base_uri": "https://localhost:8080/"
        },
        "outputId": "94e47be2-edfd-4717-d47a-af664eb2e3a9"
      },
      "source": [
        "!pip install tensorflow_text"
      ],
      "execution_count": 2,
      "outputs": [
        {
          "output_type": "stream",
          "text": [
            "Collecting tensorflow_text\n",
            "  Downloading tensorflow_text-2.6.0-cp37-cp37m-manylinux1_x86_64.whl (4.4 MB)\n",
            "\u001b[K     |████████████████████████████████| 4.4 MB 12.2 MB/s \n",
            "\u001b[?25hRequirement already satisfied: tensorflow<2.7,>=2.6.0 in /usr/local/lib/python3.7/dist-packages (from tensorflow_text) (2.6.0)\n",
            "Requirement already satisfied: tensorflow-hub>=0.8.0 in /usr/local/lib/python3.7/dist-packages (from tensorflow_text) (0.12.0)\n",
            "Requirement already satisfied: clang~=5.0 in /usr/local/lib/python3.7/dist-packages (from tensorflow<2.7,>=2.6.0->tensorflow_text) (5.0)\n",
            "Requirement already satisfied: numpy~=1.19.2 in /usr/local/lib/python3.7/dist-packages (from tensorflow<2.7,>=2.6.0->tensorflow_text) (1.19.5)\n",
            "Requirement already satisfied: flatbuffers~=1.12.0 in /usr/local/lib/python3.7/dist-packages (from tensorflow<2.7,>=2.6.0->tensorflow_text) (1.12)\n",
            "Requirement already satisfied: six~=1.15.0 in /usr/local/lib/python3.7/dist-packages (from tensorflow<2.7,>=2.6.0->tensorflow_text) (1.15.0)\n",
            "Requirement already satisfied: wrapt~=1.12.1 in /usr/local/lib/python3.7/dist-packages (from tensorflow<2.7,>=2.6.0->tensorflow_text) (1.12.1)\n",
            "Requirement already satisfied: keras~=2.6 in /usr/local/lib/python3.7/dist-packages (from tensorflow<2.7,>=2.6.0->tensorflow_text) (2.6.0)\n",
            "Requirement already satisfied: protobuf>=3.9.2 in /usr/local/lib/python3.7/dist-packages (from tensorflow<2.7,>=2.6.0->tensorflow_text) (3.17.3)\n",
            "Requirement already satisfied: tensorflow-estimator~=2.6 in /usr/local/lib/python3.7/dist-packages (from tensorflow<2.7,>=2.6.0->tensorflow_text) (2.6.0)\n",
            "Requirement already satisfied: astunparse~=1.6.3 in /usr/local/lib/python3.7/dist-packages (from tensorflow<2.7,>=2.6.0->tensorflow_text) (1.6.3)\n",
            "Requirement already satisfied: termcolor~=1.1.0 in /usr/local/lib/python3.7/dist-packages (from tensorflow<2.7,>=2.6.0->tensorflow_text) (1.1.0)\n",
            "Requirement already satisfied: opt-einsum~=3.3.0 in /usr/local/lib/python3.7/dist-packages (from tensorflow<2.7,>=2.6.0->tensorflow_text) (3.3.0)\n",
            "Requirement already satisfied: wheel~=0.35 in /usr/local/lib/python3.7/dist-packages (from tensorflow<2.7,>=2.6.0->tensorflow_text) (0.37.0)\n",
            "Requirement already satisfied: absl-py~=0.10 in /usr/local/lib/python3.7/dist-packages (from tensorflow<2.7,>=2.6.0->tensorflow_text) (0.12.0)\n",
            "Requirement already satisfied: tensorboard~=2.6 in /usr/local/lib/python3.7/dist-packages (from tensorflow<2.7,>=2.6.0->tensorflow_text) (2.6.0)\n",
            "Requirement already satisfied: h5py~=3.1.0 in /usr/local/lib/python3.7/dist-packages (from tensorflow<2.7,>=2.6.0->tensorflow_text) (3.1.0)\n",
            "Requirement already satisfied: gast==0.4.0 in /usr/local/lib/python3.7/dist-packages (from tensorflow<2.7,>=2.6.0->tensorflow_text) (0.4.0)\n",
            "Requirement already satisfied: typing-extensions~=3.7.4 in /usr/local/lib/python3.7/dist-packages (from tensorflow<2.7,>=2.6.0->tensorflow_text) (3.7.4.3)\n",
            "Requirement already satisfied: grpcio<2.0,>=1.37.0 in /usr/local/lib/python3.7/dist-packages (from tensorflow<2.7,>=2.6.0->tensorflow_text) (1.39.0)\n",
            "Requirement already satisfied: keras-preprocessing~=1.1.2 in /usr/local/lib/python3.7/dist-packages (from tensorflow<2.7,>=2.6.0->tensorflow_text) (1.1.2)\n",
            "Requirement already satisfied: google-pasta~=0.2 in /usr/local/lib/python3.7/dist-packages (from tensorflow<2.7,>=2.6.0->tensorflow_text) (0.2.0)\n",
            "Requirement already satisfied: cached-property in /usr/local/lib/python3.7/dist-packages (from h5py~=3.1.0->tensorflow<2.7,>=2.6.0->tensorflow_text) (1.5.2)\n",
            "Requirement already satisfied: werkzeug>=0.11.15 in /usr/local/lib/python3.7/dist-packages (from tensorboard~=2.6->tensorflow<2.7,>=2.6.0->tensorflow_text) (1.0.1)\n",
            "Requirement already satisfied: requests<3,>=2.21.0 in /usr/local/lib/python3.7/dist-packages (from tensorboard~=2.6->tensorflow<2.7,>=2.6.0->tensorflow_text) (2.23.0)\n",
            "Requirement already satisfied: tensorboard-plugin-wit>=1.6.0 in /usr/local/lib/python3.7/dist-packages (from tensorboard~=2.6->tensorflow<2.7,>=2.6.0->tensorflow_text) (1.8.0)\n",
            "Requirement already satisfied: setuptools>=41.0.0 in /usr/local/lib/python3.7/dist-packages (from tensorboard~=2.6->tensorflow<2.7,>=2.6.0->tensorflow_text) (57.4.0)\n",
            "Requirement already satisfied: markdown>=2.6.8 in /usr/local/lib/python3.7/dist-packages (from tensorboard~=2.6->tensorflow<2.7,>=2.6.0->tensorflow_text) (3.3.4)\n",
            "Requirement already satisfied: tensorboard-data-server<0.7.0,>=0.6.0 in /usr/local/lib/python3.7/dist-packages (from tensorboard~=2.6->tensorflow<2.7,>=2.6.0->tensorflow_text) (0.6.1)\n",
            "Requirement already satisfied: google-auth-oauthlib<0.5,>=0.4.1 in /usr/local/lib/python3.7/dist-packages (from tensorboard~=2.6->tensorflow<2.7,>=2.6.0->tensorflow_text) (0.4.5)\n",
            "Requirement already satisfied: google-auth<2,>=1.6.3 in /usr/local/lib/python3.7/dist-packages (from tensorboard~=2.6->tensorflow<2.7,>=2.6.0->tensorflow_text) (1.34.0)\n",
            "Requirement already satisfied: rsa<5,>=3.1.4 in /usr/local/lib/python3.7/dist-packages (from google-auth<2,>=1.6.3->tensorboard~=2.6->tensorflow<2.7,>=2.6.0->tensorflow_text) (4.7.2)\n",
            "Requirement already satisfied: cachetools<5.0,>=2.0.0 in /usr/local/lib/python3.7/dist-packages (from google-auth<2,>=1.6.3->tensorboard~=2.6->tensorflow<2.7,>=2.6.0->tensorflow_text) (4.2.2)\n",
            "Requirement already satisfied: pyasn1-modules>=0.2.1 in /usr/local/lib/python3.7/dist-packages (from google-auth<2,>=1.6.3->tensorboard~=2.6->tensorflow<2.7,>=2.6.0->tensorflow_text) (0.2.8)\n",
            "Requirement already satisfied: requests-oauthlib>=0.7.0 in /usr/local/lib/python3.7/dist-packages (from google-auth-oauthlib<0.5,>=0.4.1->tensorboard~=2.6->tensorflow<2.7,>=2.6.0->tensorflow_text) (1.3.0)\n",
            "Requirement already satisfied: importlib-metadata in /usr/local/lib/python3.7/dist-packages (from markdown>=2.6.8->tensorboard~=2.6->tensorflow<2.7,>=2.6.0->tensorflow_text) (4.6.4)\n",
            "Requirement already satisfied: pyasn1<0.5.0,>=0.4.6 in /usr/local/lib/python3.7/dist-packages (from pyasn1-modules>=0.2.1->google-auth<2,>=1.6.3->tensorboard~=2.6->tensorflow<2.7,>=2.6.0->tensorflow_text) (0.4.8)\n",
            "Requirement already satisfied: urllib3!=1.25.0,!=1.25.1,<1.26,>=1.21.1 in /usr/local/lib/python3.7/dist-packages (from requests<3,>=2.21.0->tensorboard~=2.6->tensorflow<2.7,>=2.6.0->tensorflow_text) (1.24.3)\n",
            "Requirement already satisfied: chardet<4,>=3.0.2 in /usr/local/lib/python3.7/dist-packages (from requests<3,>=2.21.0->tensorboard~=2.6->tensorflow<2.7,>=2.6.0->tensorflow_text) (3.0.4)\n",
            "Requirement already satisfied: idna<3,>=2.5 in /usr/local/lib/python3.7/dist-packages (from requests<3,>=2.21.0->tensorboard~=2.6->tensorflow<2.7,>=2.6.0->tensorflow_text) (2.10)\n",
            "Requirement already satisfied: certifi>=2017.4.17 in /usr/local/lib/python3.7/dist-packages (from requests<3,>=2.21.0->tensorboard~=2.6->tensorflow<2.7,>=2.6.0->tensorflow_text) (2021.5.30)\n",
            "Requirement already satisfied: oauthlib>=3.0.0 in /usr/local/lib/python3.7/dist-packages (from requests-oauthlib>=0.7.0->google-auth-oauthlib<0.5,>=0.4.1->tensorboard~=2.6->tensorflow<2.7,>=2.6.0->tensorflow_text) (3.1.1)\n",
            "Requirement already satisfied: zipp>=0.5 in /usr/local/lib/python3.7/dist-packages (from importlib-metadata->markdown>=2.6.8->tensorboard~=2.6->tensorflow<2.7,>=2.6.0->tensorflow_text) (3.5.0)\n",
            "Installing collected packages: tensorflow-text\n",
            "Successfully installed tensorflow-text-2.6.0\n"
          ],
          "name": "stdout"
        }
      ]
    },
    {
      "cell_type": "code",
      "metadata": {
        "colab": {
          "base_uri": "https://localhost:8080/"
        },
        "id": "424Guk_6NIL1",
        "outputId": "30ea0f37-56ba-4134-b902-a357f77d7bed"
      },
      "source": [
        "!pip install tf-models-official"
      ],
      "execution_count": 3,
      "outputs": [
        {
          "output_type": "stream",
          "text": [
            "Collecting tf-models-official\n",
            "  Downloading tf_models_official-2.6.0-py2.py3-none-any.whl (1.8 MB)\n",
            "\u001b[K     |████████████████████████████████| 1.8 MB 12.9 MB/s \n",
            "\u001b[?25hRequirement already satisfied: scipy>=0.19.1 in /usr/local/lib/python3.7/dist-packages (from tf-models-official) (1.4.1)\n",
            "Requirement already satisfied: psutil>=5.4.3 in /usr/local/lib/python3.7/dist-packages (from tf-models-official) (5.4.8)\n",
            "Requirement already satisfied: tensorflow>=2.5.0 in /usr/local/lib/python3.7/dist-packages (from tf-models-official) (2.6.0)\n",
            "Requirement already satisfied: google-api-python-client>=1.6.7 in /usr/local/lib/python3.7/dist-packages (from tf-models-official) (1.12.8)\n",
            "Collecting opencv-python-headless\n",
            "  Downloading opencv_python_headless-4.5.3.56-cp37-cp37m-manylinux2014_x86_64.whl (37.1 MB)\n",
            "\u001b[K     |████████████████████████████████| 37.1 MB 47 kB/s \n",
            "\u001b[?25hRequirement already satisfied: tensorflow-datasets in /usr/local/lib/python3.7/dist-packages (from tf-models-official) (4.0.1)\n",
            "Requirement already satisfied: matplotlib in /usr/local/lib/python3.7/dist-packages (from tf-models-official) (3.2.2)\n",
            "Collecting sacrebleu\n",
            "  Downloading sacrebleu-2.0.0-py3-none-any.whl (90 kB)\n",
            "\u001b[K     |████████████████████████████████| 90 kB 8.8 MB/s \n",
            "\u001b[?25hCollecting tensorflow-model-optimization>=0.4.1\n",
            "  Downloading tensorflow_model_optimization-0.6.0-py2.py3-none-any.whl (211 kB)\n",
            "\u001b[K     |████████████████████████████████| 211 kB 66.9 MB/s \n",
            "\u001b[?25hRequirement already satisfied: numpy>=1.15.4 in /usr/local/lib/python3.7/dist-packages (from tf-models-official) (1.19.5)\n",
            "Requirement already satisfied: Cython in /usr/local/lib/python3.7/dist-packages (from tf-models-official) (0.29.24)\n",
            "Requirement already satisfied: pandas>=0.22.0 in /usr/local/lib/python3.7/dist-packages (from tf-models-official) (1.1.5)\n",
            "Collecting tf-slim>=1.1.0\n",
            "  Downloading tf_slim-1.1.0-py2.py3-none-any.whl (352 kB)\n",
            "\u001b[K     |████████████████████████████████| 352 kB 40.8 MB/s \n",
            "\u001b[?25hCollecting pyyaml>=5.1\n",
            "  Downloading PyYAML-5.4.1-cp37-cp37m-manylinux1_x86_64.whl (636 kB)\n",
            "\u001b[K     |████████████████████████████████| 636 kB 51.8 MB/s \n",
            "\u001b[?25hRequirement already satisfied: kaggle>=1.3.9 in /usr/local/lib/python3.7/dist-packages (from tf-models-official) (1.5.12)\n",
            "Requirement already satisfied: oauth2client in /usr/local/lib/python3.7/dist-packages (from tf-models-official) (4.1.3)\n",
            "Requirement already satisfied: six in /usr/local/lib/python3.7/dist-packages (from tf-models-official) (1.15.0)\n",
            "Requirement already satisfied: gin-config in /usr/local/lib/python3.7/dist-packages (from tf-models-official) (0.4.0)\n",
            "Collecting py-cpuinfo>=3.3.0\n",
            "  Downloading py-cpuinfo-8.0.0.tar.gz (99 kB)\n",
            "\u001b[K     |████████████████████████████████| 99 kB 7.8 MB/s \n",
            "\u001b[?25hRequirement already satisfied: pycocotools in /usr/local/lib/python3.7/dist-packages (from tf-models-official) (2.0.2)\n",
            "Requirement already satisfied: tensorflow-text>=2.5.0 in /usr/local/lib/python3.7/dist-packages (from tf-models-official) (2.6.0)\n",
            "Collecting tensorflow-addons\n",
            "  Downloading tensorflow_addons-0.14.0-cp37-cp37m-manylinux_2_12_x86_64.manylinux2010_x86_64.whl (1.1 MB)\n",
            "\u001b[K     |████████████████████████████████| 1.1 MB 50.3 MB/s \n",
            "\u001b[?25hCollecting seqeval\n",
            "  Downloading seqeval-1.2.2.tar.gz (43 kB)\n",
            "\u001b[K     |████████████████████████████████| 43 kB 1.4 MB/s \n",
            "\u001b[?25hRequirement already satisfied: tensorflow-hub>=0.6.0 in /usr/local/lib/python3.7/dist-packages (from tf-models-official) (0.12.0)\n",
            "Requirement already satisfied: Pillow in /usr/local/lib/python3.7/dist-packages (from tf-models-official) (7.1.2)\n",
            "Collecting sentencepiece\n",
            "  Downloading sentencepiece-0.1.96-cp37-cp37m-manylinux_2_17_x86_64.manylinux2014_x86_64.whl (1.2 MB)\n",
            "\u001b[K     |████████████████████████████████| 1.2 MB 46.2 MB/s \n",
            "\u001b[?25hRequirement already satisfied: uritemplate<4dev,>=3.0.0 in /usr/local/lib/python3.7/dist-packages (from google-api-python-client>=1.6.7->tf-models-official) (3.0.1)\n",
            "Requirement already satisfied: google-api-core<2dev,>=1.21.0 in /usr/local/lib/python3.7/dist-packages (from google-api-python-client>=1.6.7->tf-models-official) (1.26.3)\n",
            "Requirement already satisfied: google-auth-httplib2>=0.0.3 in /usr/local/lib/python3.7/dist-packages (from google-api-python-client>=1.6.7->tf-models-official) (0.0.4)\n",
            "Requirement already satisfied: google-auth>=1.16.0 in /usr/local/lib/python3.7/dist-packages (from google-api-python-client>=1.6.7->tf-models-official) (1.34.0)\n",
            "Requirement already satisfied: httplib2<1dev,>=0.15.0 in /usr/local/lib/python3.7/dist-packages (from google-api-python-client>=1.6.7->tf-models-official) (0.17.4)\n",
            "Requirement already satisfied: setuptools>=40.3.0 in /usr/local/lib/python3.7/dist-packages (from google-api-core<2dev,>=1.21.0->google-api-python-client>=1.6.7->tf-models-official) (57.4.0)\n",
            "Requirement already satisfied: requests<3.0.0dev,>=2.18.0 in /usr/local/lib/python3.7/dist-packages (from google-api-core<2dev,>=1.21.0->google-api-python-client>=1.6.7->tf-models-official) (2.23.0)\n",
            "Requirement already satisfied: protobuf>=3.12.0 in /usr/local/lib/python3.7/dist-packages (from google-api-core<2dev,>=1.21.0->google-api-python-client>=1.6.7->tf-models-official) (3.17.3)\n",
            "Requirement already satisfied: googleapis-common-protos<2.0dev,>=1.6.0 in /usr/local/lib/python3.7/dist-packages (from google-api-core<2dev,>=1.21.0->google-api-python-client>=1.6.7->tf-models-official) (1.53.0)\n",
            "Requirement already satisfied: pytz in /usr/local/lib/python3.7/dist-packages (from google-api-core<2dev,>=1.21.0->google-api-python-client>=1.6.7->tf-models-official) (2018.9)\n",
            "Requirement already satisfied: packaging>=14.3 in /usr/local/lib/python3.7/dist-packages (from google-api-core<2dev,>=1.21.0->google-api-python-client>=1.6.7->tf-models-official) (21.0)\n",
            "Requirement already satisfied: cachetools<5.0,>=2.0.0 in /usr/local/lib/python3.7/dist-packages (from google-auth>=1.16.0->google-api-python-client>=1.6.7->tf-models-official) (4.2.2)\n",
            "Requirement already satisfied: rsa<5,>=3.1.4 in /usr/local/lib/python3.7/dist-packages (from google-auth>=1.16.0->google-api-python-client>=1.6.7->tf-models-official) (4.7.2)\n",
            "Requirement already satisfied: pyasn1-modules>=0.2.1 in /usr/local/lib/python3.7/dist-packages (from google-auth>=1.16.0->google-api-python-client>=1.6.7->tf-models-official) (0.2.8)\n",
            "Requirement already satisfied: tqdm in /usr/local/lib/python3.7/dist-packages (from kaggle>=1.3.9->tf-models-official) (4.62.0)\n",
            "Requirement already satisfied: urllib3 in /usr/local/lib/python3.7/dist-packages (from kaggle>=1.3.9->tf-models-official) (1.24.3)\n",
            "Requirement already satisfied: python-dateutil in /usr/local/lib/python3.7/dist-packages (from kaggle>=1.3.9->tf-models-official) (2.8.2)\n",
            "Requirement already satisfied: certifi in /usr/local/lib/python3.7/dist-packages (from kaggle>=1.3.9->tf-models-official) (2021.5.30)\n",
            "Requirement already satisfied: python-slugify in /usr/local/lib/python3.7/dist-packages (from kaggle>=1.3.9->tf-models-official) (5.0.2)\n",
            "Requirement already satisfied: pyparsing>=2.0.2 in /usr/local/lib/python3.7/dist-packages (from packaging>=14.3->google-api-core<2dev,>=1.21.0->google-api-python-client>=1.6.7->tf-models-official) (2.4.7)\n",
            "Requirement already satisfied: pyasn1<0.5.0,>=0.4.6 in /usr/local/lib/python3.7/dist-packages (from pyasn1-modules>=0.2.1->google-auth>=1.16.0->google-api-python-client>=1.6.7->tf-models-official) (0.4.8)\n",
            "Requirement already satisfied: chardet<4,>=3.0.2 in /usr/local/lib/python3.7/dist-packages (from requests<3.0.0dev,>=2.18.0->google-api-core<2dev,>=1.21.0->google-api-python-client>=1.6.7->tf-models-official) (3.0.4)\n",
            "Requirement already satisfied: idna<3,>=2.5 in /usr/local/lib/python3.7/dist-packages (from requests<3.0.0dev,>=2.18.0->google-api-core<2dev,>=1.21.0->google-api-python-client>=1.6.7->tf-models-official) (2.10)\n",
            "Requirement already satisfied: astunparse~=1.6.3 in /usr/local/lib/python3.7/dist-packages (from tensorflow>=2.5.0->tf-models-official) (1.6.3)\n",
            "Requirement already satisfied: wrapt~=1.12.1 in /usr/local/lib/python3.7/dist-packages (from tensorflow>=2.5.0->tf-models-official) (1.12.1)\n",
            "Requirement already satisfied: tensorflow-estimator~=2.6 in /usr/local/lib/python3.7/dist-packages (from tensorflow>=2.5.0->tf-models-official) (2.6.0)\n",
            "Requirement already satisfied: wheel~=0.35 in /usr/local/lib/python3.7/dist-packages (from tensorflow>=2.5.0->tf-models-official) (0.37.0)\n",
            "Requirement already satisfied: h5py~=3.1.0 in /usr/local/lib/python3.7/dist-packages (from tensorflow>=2.5.0->tf-models-official) (3.1.0)\n",
            "Requirement already satisfied: termcolor~=1.1.0 in /usr/local/lib/python3.7/dist-packages (from tensorflow>=2.5.0->tf-models-official) (1.1.0)\n",
            "Requirement already satisfied: typing-extensions~=3.7.4 in /usr/local/lib/python3.7/dist-packages (from tensorflow>=2.5.0->tf-models-official) (3.7.4.3)\n",
            "Requirement already satisfied: flatbuffers~=1.12.0 in /usr/local/lib/python3.7/dist-packages (from tensorflow>=2.5.0->tf-models-official) (1.12)\n",
            "Requirement already satisfied: gast==0.4.0 in /usr/local/lib/python3.7/dist-packages (from tensorflow>=2.5.0->tf-models-official) (0.4.0)\n",
            "Requirement already satisfied: keras-preprocessing~=1.1.2 in /usr/local/lib/python3.7/dist-packages (from tensorflow>=2.5.0->tf-models-official) (1.1.2)\n",
            "Requirement already satisfied: tensorboard~=2.6 in /usr/local/lib/python3.7/dist-packages (from tensorflow>=2.5.0->tf-models-official) (2.6.0)\n",
            "Requirement already satisfied: clang~=5.0 in /usr/local/lib/python3.7/dist-packages (from tensorflow>=2.5.0->tf-models-official) (5.0)\n",
            "Requirement already satisfied: google-pasta~=0.2 in /usr/local/lib/python3.7/dist-packages (from tensorflow>=2.5.0->tf-models-official) (0.2.0)\n",
            "Requirement already satisfied: grpcio<2.0,>=1.37.0 in /usr/local/lib/python3.7/dist-packages (from tensorflow>=2.5.0->tf-models-official) (1.39.0)\n",
            "Requirement already satisfied: absl-py~=0.10 in /usr/local/lib/python3.7/dist-packages (from tensorflow>=2.5.0->tf-models-official) (0.12.0)\n",
            "Requirement already satisfied: opt-einsum~=3.3.0 in /usr/local/lib/python3.7/dist-packages (from tensorflow>=2.5.0->tf-models-official) (3.3.0)\n",
            "Requirement already satisfied: keras~=2.6 in /usr/local/lib/python3.7/dist-packages (from tensorflow>=2.5.0->tf-models-official) (2.6.0)\n",
            "Requirement already satisfied: cached-property in /usr/local/lib/python3.7/dist-packages (from h5py~=3.1.0->tensorflow>=2.5.0->tf-models-official) (1.5.2)\n",
            "Requirement already satisfied: google-auth-oauthlib<0.5,>=0.4.1 in /usr/local/lib/python3.7/dist-packages (from tensorboard~=2.6->tensorflow>=2.5.0->tf-models-official) (0.4.5)\n",
            "Requirement already satisfied: tensorboard-data-server<0.7.0,>=0.6.0 in /usr/local/lib/python3.7/dist-packages (from tensorboard~=2.6->tensorflow>=2.5.0->tf-models-official) (0.6.1)\n",
            "Requirement already satisfied: tensorboard-plugin-wit>=1.6.0 in /usr/local/lib/python3.7/dist-packages (from tensorboard~=2.6->tensorflow>=2.5.0->tf-models-official) (1.8.0)\n",
            "Requirement already satisfied: markdown>=2.6.8 in /usr/local/lib/python3.7/dist-packages (from tensorboard~=2.6->tensorflow>=2.5.0->tf-models-official) (3.3.4)\n",
            "Requirement already satisfied: werkzeug>=0.11.15 in /usr/local/lib/python3.7/dist-packages (from tensorboard~=2.6->tensorflow>=2.5.0->tf-models-official) (1.0.1)\n",
            "Requirement already satisfied: requests-oauthlib>=0.7.0 in /usr/local/lib/python3.7/dist-packages (from google-auth-oauthlib<0.5,>=0.4.1->tensorboard~=2.6->tensorflow>=2.5.0->tf-models-official) (1.3.0)\n",
            "Requirement already satisfied: importlib-metadata in /usr/local/lib/python3.7/dist-packages (from markdown>=2.6.8->tensorboard~=2.6->tensorflow>=2.5.0->tf-models-official) (4.6.4)\n",
            "Requirement already satisfied: oauthlib>=3.0.0 in /usr/local/lib/python3.7/dist-packages (from requests-oauthlib>=0.7.0->google-auth-oauthlib<0.5,>=0.4.1->tensorboard~=2.6->tensorflow>=2.5.0->tf-models-official) (3.1.1)\n",
            "Requirement already satisfied: dm-tree~=0.1.1 in /usr/local/lib/python3.7/dist-packages (from tensorflow-model-optimization>=0.4.1->tf-models-official) (0.1.6)\n",
            "Requirement already satisfied: zipp>=0.5 in /usr/local/lib/python3.7/dist-packages (from importlib-metadata->markdown>=2.6.8->tensorboard~=2.6->tensorflow>=2.5.0->tf-models-official) (3.5.0)\n",
            "Requirement already satisfied: cycler>=0.10 in /usr/local/lib/python3.7/dist-packages (from matplotlib->tf-models-official) (0.10.0)\n",
            "Requirement already satisfied: kiwisolver>=1.0.1 in /usr/local/lib/python3.7/dist-packages (from matplotlib->tf-models-official) (1.3.1)\n",
            "Requirement already satisfied: text-unidecode>=1.3 in /usr/local/lib/python3.7/dist-packages (from python-slugify->kaggle>=1.3.9->tf-models-official) (1.3)\n",
            "Requirement already satisfied: tabulate>=0.8.9 in /usr/local/lib/python3.7/dist-packages (from sacrebleu->tf-models-official) (0.8.9)\n",
            "Requirement already satisfied: regex in /usr/local/lib/python3.7/dist-packages (from sacrebleu->tf-models-official) (2019.12.20)\n",
            "Collecting colorama\n",
            "  Downloading colorama-0.4.4-py2.py3-none-any.whl (16 kB)\n",
            "Collecting portalocker\n",
            "  Downloading portalocker-2.3.2-py2.py3-none-any.whl (15 kB)\n",
            "Requirement already satisfied: scikit-learn>=0.21.3 in /usr/local/lib/python3.7/dist-packages (from seqeval->tf-models-official) (0.22.2.post1)\n",
            "Requirement already satisfied: joblib>=0.11 in /usr/local/lib/python3.7/dist-packages (from scikit-learn>=0.21.3->seqeval->tf-models-official) (1.0.1)\n",
            "Requirement already satisfied: typeguard>=2.7 in /usr/local/lib/python3.7/dist-packages (from tensorflow-addons->tf-models-official) (2.7.1)\n",
            "Requirement already satisfied: importlib-resources in /usr/local/lib/python3.7/dist-packages (from tensorflow-datasets->tf-models-official) (5.2.2)\n",
            "Requirement already satisfied: future in /usr/local/lib/python3.7/dist-packages (from tensorflow-datasets->tf-models-official) (0.16.0)\n",
            "Requirement already satisfied: attrs>=18.1.0 in /usr/local/lib/python3.7/dist-packages (from tensorflow-datasets->tf-models-official) (21.2.0)\n",
            "Requirement already satisfied: promise in /usr/local/lib/python3.7/dist-packages (from tensorflow-datasets->tf-models-official) (2.3)\n",
            "Requirement already satisfied: dill in /usr/local/lib/python3.7/dist-packages (from tensorflow-datasets->tf-models-official) (0.3.4)\n",
            "Requirement already satisfied: tensorflow-metadata in /usr/local/lib/python3.7/dist-packages (from tensorflow-datasets->tf-models-official) (1.2.0)\n",
            "Building wheels for collected packages: py-cpuinfo, seqeval\n",
            "  Building wheel for py-cpuinfo (setup.py) ... \u001b[?25l\u001b[?25hdone\n",
            "  Created wheel for py-cpuinfo: filename=py_cpuinfo-8.0.0-py3-none-any.whl size=22258 sha256=d9a87df8992a3d5f6eee7f59bfa1871a06c01631536725685674daa126960020\n",
            "  Stored in directory: /root/.cache/pip/wheels/d2/f1/1f/041add21dc9c4220157f1bd2bd6afe1f1a49524c3396b94401\n",
            "  Building wheel for seqeval (setup.py) ... \u001b[?25l\u001b[?25hdone\n",
            "  Created wheel for seqeval: filename=seqeval-1.2.2-py3-none-any.whl size=16181 sha256=9af066707dd7cfac6eaf657a803247201a8e79e138bfe6f05b5162b5b1f7eb5b\n",
            "  Stored in directory: /root/.cache/pip/wheels/05/96/ee/7cac4e74f3b19e3158dce26a20a1c86b3533c43ec72a549fd7\n",
            "Successfully built py-cpuinfo seqeval\n",
            "Installing collected packages: portalocker, colorama, tf-slim, tensorflow-model-optimization, tensorflow-addons, seqeval, sentencepiece, sacrebleu, pyyaml, py-cpuinfo, opencv-python-headless, tf-models-official\n",
            "  Attempting uninstall: pyyaml\n",
            "    Found existing installation: PyYAML 3.13\n",
            "    Uninstalling PyYAML-3.13:\n",
            "      Successfully uninstalled PyYAML-3.13\n",
            "Successfully installed colorama-0.4.4 opencv-python-headless-4.5.3.56 portalocker-2.3.2 py-cpuinfo-8.0.0 pyyaml-5.4.1 sacrebleu-2.0.0 sentencepiece-0.1.96 seqeval-1.2.2 tensorflow-addons-0.14.0 tensorflow-model-optimization-0.6.0 tf-models-official-2.6.0 tf-slim-1.1.0\n"
          ],
          "name": "stdout"
        }
      ]
    },
    {
      "cell_type": "code",
      "metadata": {
        "id": "wfKm-Jc2MIhQ"
      },
      "source": [
        "import os\n",
        "import shutil\n",
        "\n",
        "import tensorflow as tf\n",
        "import tensorflow_hub as hub\n",
        "import tensorflow_text as text\n",
        "from official.nlp import optimization  # to create AdamW optimizer\n",
        "\n",
        "import matplotlib.pyplot as plt\n",
        "\n",
        "tf.get_logger().setLevel('ERROR')"
      ],
      "execution_count": 4,
      "outputs": []
    },
    {
      "cell_type": "code",
      "metadata": {
        "id": "871-XCwKNLVF"
      },
      "source": [
        ""
      ],
      "execution_count": 4,
      "outputs": []
    },
    {
      "cell_type": "code",
      "metadata": {
        "colab": {
          "base_uri": "https://localhost:8080/"
        },
        "id": "NQOFTr9Ko3qA",
        "outputId": "fb9dcac4-93cc-4e69-a6ea-79d07f6dd58c"
      },
      "source": [
        "from google.colab import drive\n",
        "drive.mount('/content/drive/')"
      ],
      "execution_count": 5,
      "outputs": [
        {
          "output_type": "stream",
          "text": [
            "Mounted at /content/drive/\n"
          ],
          "name": "stdout"
        }
      ]
    },
    {
      "cell_type": "code",
      "metadata": {
        "colab": {
          "base_uri": "https://localhost:8080/"
        },
        "id": "wpvG_b3pq1sz",
        "outputId": "153adbb7-f9e4-4c6c-be63-9ee9fab46577"
      },
      "source": [
        "!ls /content/drive/MyDrive/nlp-for-trading/"
      ],
      "execution_count": 6,
      "outputs": [
        {
          "output_type": "stream",
          "text": [
            "Combined_News_DJIA.csv\t\t\t       RedditNews.csv\n",
            "predict_stock_market_trend_from_news_01.ipynb  upload_DJIA_table.csv\n"
          ],
          "name": "stdout"
        }
      ]
    },
    {
      "cell_type": "markdown",
      "metadata": {
        "id": "ZWKBPLiw3tdR"
      },
      "source": [
        "**1. Data Understanding**"
      ]
    },
    {
      "cell_type": "code",
      "metadata": {
        "id": "G336-bryqCfA"
      },
      "source": [
        "data_source = '/content/drive/MyDrive/nlp-for-trading/Combined_News_DJIA.csv'"
      ],
      "execution_count": 7,
      "outputs": []
    },
    {
      "cell_type": "code",
      "metadata": {
        "id": "MUu_A8A5j75n"
      },
      "source": [
        "df = pd.read_csv(data_source)"
      ],
      "execution_count": 8,
      "outputs": []
    },
    {
      "cell_type": "code",
      "metadata": {
        "colab": {
          "base_uri": "https://localhost:8080/",
          "height": 700
        },
        "id": "Hqpz3lOIqz8z",
        "outputId": "cc89b8d4-eaca-4520-fcbf-e060df2d8446"
      },
      "source": [
        "# To see data structure\n",
        "df.head()"
      ],
      "execution_count": 9,
      "outputs": [
        {
          "output_type": "execute_result",
          "data": {
            "text/html": [
              "<div>\n",
              "<style scoped>\n",
              "    .dataframe tbody tr th:only-of-type {\n",
              "        vertical-align: middle;\n",
              "    }\n",
              "\n",
              "    .dataframe tbody tr th {\n",
              "        vertical-align: top;\n",
              "    }\n",
              "\n",
              "    .dataframe thead th {\n",
              "        text-align: right;\n",
              "    }\n",
              "</style>\n",
              "<table border=\"1\" class=\"dataframe\">\n",
              "  <thead>\n",
              "    <tr style=\"text-align: right;\">\n",
              "      <th></th>\n",
              "      <th>Date</th>\n",
              "      <th>Label</th>\n",
              "      <th>Top1</th>\n",
              "      <th>Top2</th>\n",
              "      <th>Top3</th>\n",
              "      <th>Top4</th>\n",
              "      <th>Top5</th>\n",
              "      <th>Top6</th>\n",
              "      <th>Top7</th>\n",
              "      <th>Top8</th>\n",
              "      <th>Top9</th>\n",
              "      <th>Top10</th>\n",
              "      <th>Top11</th>\n",
              "      <th>Top12</th>\n",
              "      <th>Top13</th>\n",
              "      <th>Top14</th>\n",
              "      <th>Top15</th>\n",
              "      <th>Top16</th>\n",
              "      <th>Top17</th>\n",
              "      <th>Top18</th>\n",
              "      <th>Top19</th>\n",
              "      <th>Top20</th>\n",
              "      <th>Top21</th>\n",
              "      <th>Top22</th>\n",
              "      <th>Top23</th>\n",
              "      <th>Top24</th>\n",
              "      <th>Top25</th>\n",
              "    </tr>\n",
              "  </thead>\n",
              "  <tbody>\n",
              "    <tr>\n",
              "      <th>0</th>\n",
              "      <td>2008-08-08</td>\n",
              "      <td>0</td>\n",
              "      <td>b\"Georgia 'downs two Russian warplanes' as cou...</td>\n",
              "      <td>b'BREAKING: Musharraf to be impeached.'</td>\n",
              "      <td>b'Russia Today: Columns of troops roll into So...</td>\n",
              "      <td>b'Russian tanks are moving towards the capital...</td>\n",
              "      <td>b\"Afghan children raped with 'impunity,' U.N. ...</td>\n",
              "      <td>b'150 Russian tanks have entered South Ossetia...</td>\n",
              "      <td>b\"Breaking: Georgia invades South Ossetia, Rus...</td>\n",
              "      <td>b\"The 'enemy combatent' trials are nothing but...</td>\n",
              "      <td>b'Georgian troops retreat from S. Osettain cap...</td>\n",
              "      <td>b'Did the U.S. Prep Georgia for War with Russia?'</td>\n",
              "      <td>b'Rice Gives Green Light for Israel to Attack ...</td>\n",
              "      <td>b'Announcing:Class Action Lawsuit on Behalf of...</td>\n",
              "      <td>b\"So---Russia and Georgia are at war and the N...</td>\n",
              "      <td>b\"China tells Bush to stay out of other countr...</td>\n",
              "      <td>b'Did World War III start today?'</td>\n",
              "      <td>b'Georgia Invades South Ossetia - if Russia ge...</td>\n",
              "      <td>b'Al-Qaeda Faces Islamist Backlash'</td>\n",
              "      <td>b'Condoleezza Rice: \"The US would not act to p...</td>\n",
              "      <td>b'This is a busy day:  The European Union has ...</td>\n",
              "      <td>b\"Georgia will withdraw 1,000 soldiers from Ir...</td>\n",
              "      <td>b'Why the Pentagon Thinks Attacking Iran is a ...</td>\n",
              "      <td>b'Caucasus in crisis: Georgia invades South Os...</td>\n",
              "      <td>b'Indian shoe manufactory  - And again in a se...</td>\n",
              "      <td>b'Visitors Suffering from Mental Illnesses Ban...</td>\n",
              "      <td>b\"No Help for Mexico's Kidnapping Surge\"</td>\n",
              "    </tr>\n",
              "    <tr>\n",
              "      <th>1</th>\n",
              "      <td>2008-08-11</td>\n",
              "      <td>1</td>\n",
              "      <td>b'Why wont America and Nato help us? If they w...</td>\n",
              "      <td>b'Bush puts foot down on Georgian conflict'</td>\n",
              "      <td>b\"Jewish Georgian minister: Thanks to Israeli ...</td>\n",
              "      <td>b'Georgian army flees in disarray as Russians ...</td>\n",
              "      <td>b\"Olympic opening ceremony fireworks 'faked'\"</td>\n",
              "      <td>b'What were the Mossad with fraudulent New Zea...</td>\n",
              "      <td>b'Russia angered by Israeli military sale to G...</td>\n",
              "      <td>b'An American citizen living in S.Ossetia blam...</td>\n",
              "      <td>b'Welcome To World War IV! Now In High Definit...</td>\n",
              "      <td>b\"Georgia's move, a mistake of monumental prop...</td>\n",
              "      <td>b'Russia presses deeper into Georgia; U.S. say...</td>\n",
              "      <td>b'Abhinav Bindra wins first ever Individual Ol...</td>\n",
              "      <td>b' U.S. ship heads for Arctic to define territ...</td>\n",
              "      <td>b'Drivers in a Jerusalem taxi station threaten...</td>\n",
              "      <td>b'The French Team is Stunned by Phelps and the...</td>\n",
              "      <td>b'Israel and the US behind the Georgian aggres...</td>\n",
              "      <td>b'\"Do not believe TV, neither Russian nor Geor...</td>\n",
              "      <td>b'Riots are still going on in Montreal (Canada...</td>\n",
              "      <td>b'China to overtake US as largest manufacturer'</td>\n",
              "      <td>b'War in South Ossetia [PICS]'</td>\n",
              "      <td>b'Israeli Physicians Group Condemns State Tort...</td>\n",
              "      <td>b' Russia has just beaten the United States ov...</td>\n",
              "      <td>b'Perhaps *the* question about the Georgia - R...</td>\n",
              "      <td>b'Russia is so much better at war'</td>\n",
              "      <td>b\"So this is what it's come to: trading sex fo...</td>\n",
              "    </tr>\n",
              "    <tr>\n",
              "      <th>2</th>\n",
              "      <td>2008-08-12</td>\n",
              "      <td>0</td>\n",
              "      <td>b'Remember that adorable 9-year-old who sang a...</td>\n",
              "      <td>b\"Russia 'ends Georgia operation'\"</td>\n",
              "      <td>b'\"If we had no sexual harassment we would hav...</td>\n",
              "      <td>b\"Al-Qa'eda is losing support in Iraq because ...</td>\n",
              "      <td>b'Ceasefire in Georgia: Putin Outmaneuvers the...</td>\n",
              "      <td>b'Why Microsoft and Intel tried to kill the XO...</td>\n",
              "      <td>b'Stratfor: The Russo-Georgian War and the Bal...</td>\n",
              "      <td>b\"I'm Trying to Get a Sense of This Whole Geor...</td>\n",
              "      <td>b\"The US military was surprised by the timing ...</td>\n",
              "      <td>b'U.S. Beats War Drum as Iran Dumps the Dollar'</td>\n",
              "      <td>b'Gorbachev: \"Georgian military attacked the S...</td>\n",
              "      <td>b'CNN use footage of Tskhinvali ruins to cover...</td>\n",
              "      <td>b'Beginning a war as the Olympics were opening...</td>\n",
              "      <td>b'55 pyramids as large as the Luxor stacked in...</td>\n",
              "      <td>b'The 11 Top Party Cities in the World'</td>\n",
              "      <td>b'U.S. troops still in Georgia (did you know t...</td>\n",
              "      <td>b'Why Russias response to Georgia was right'</td>\n",
              "      <td>b'Gorbachev accuses U.S. of making a \"serious ...</td>\n",
              "      <td>b'Russia, Georgia, and NATO: Cold War Two'</td>\n",
              "      <td>b'Remember that adorable 62-year-old who led y...</td>\n",
              "      <td>b'War in Georgia: The Israeli connection'</td>\n",
              "      <td>b'All signs point to the US encouraging Georgi...</td>\n",
              "      <td>b'Christopher King argues that the US and NATO...</td>\n",
              "      <td>b'America: The New Mexico?'</td>\n",
              "      <td>b\"BBC NEWS | Asia-Pacific | Extinction 'by man...</td>\n",
              "    </tr>\n",
              "    <tr>\n",
              "      <th>3</th>\n",
              "      <td>2008-08-13</td>\n",
              "      <td>0</td>\n",
              "      <td>b' U.S. refuses Israel weapons to attack Iran:...</td>\n",
              "      <td>b\"When the president ordered to attack Tskhinv...</td>\n",
              "      <td>b' Israel clears troops who killed Reuters cam...</td>\n",
              "      <td>b'Britain\\'s policy of being tough on drugs is...</td>\n",
              "      <td>b'Body of 14 year old found in trunk; Latest (...</td>\n",
              "      <td>b'China has moved 10 *million* quake survivors...</td>\n",
              "      <td>b\"Bush announces Operation Get All Up In Russi...</td>\n",
              "      <td>b'Russian forces sink Georgian ships '</td>\n",
              "      <td>b\"The commander of a Navy air reconnaissance s...</td>\n",
              "      <td>b\"92% of CNN readers: Russia's actions in Geor...</td>\n",
              "      <td>b'USA to send fleet into Black Sea to help Geo...</td>\n",
              "      <td>b\"US warns against Israeli plan to strike agai...</td>\n",
              "      <td>b\"In an intriguing cyberalliance, two Estonian...</td>\n",
              "      <td>b'The CNN Effect: Georgia Schools Russia in In...</td>\n",
              "      <td>b'Why Russias response to Georgia was right'</td>\n",
              "      <td>b'Elephants extinct by 2020?'</td>\n",
              "      <td>b'US humanitarian missions soon in Georgia - i...</td>\n",
              "      <td>b\"Georgia's DDOS came from US sources\"</td>\n",
              "      <td>b'Russian convoy heads into Georgia, violating...</td>\n",
              "      <td>b'Israeli defence minister: US against strike ...</td>\n",
              "      <td>b'Gorbachev: We Had No Choice'</td>\n",
              "      <td>b'Witness: Russian forces head towards Tbilisi...</td>\n",
              "      <td>b' Quarter of Russians blame U.S. for conflict...</td>\n",
              "      <td>b'Georgian president  says US military will ta...</td>\n",
              "      <td>b'2006: Nobel laureate Aleksander Solzhenitsyn...</td>\n",
              "    </tr>\n",
              "    <tr>\n",
              "      <th>4</th>\n",
              "      <td>2008-08-14</td>\n",
              "      <td>1</td>\n",
              "      <td>b'All the experts admit that we should legalis...</td>\n",
              "      <td>b'War in South Osetia - 89 pictures made by a ...</td>\n",
              "      <td>b'Swedish wrestler Ara Abrahamian throws away ...</td>\n",
              "      <td>b'Russia exaggerated the death toll in South O...</td>\n",
              "      <td>b'Missile That Killed 9 Inside Pakistan May Ha...</td>\n",
              "      <td>b\"Rushdie Condemns Random House's Refusal to P...</td>\n",
              "      <td>b'Poland and US agree to missle defense deal. ...</td>\n",
              "      <td>b'Will the Russians conquer Tblisi? Bet on it,...</td>\n",
              "      <td>b'Russia exaggerating South Ossetian death tol...</td>\n",
              "      <td>b' Musharraf expected to resign rather than fa...</td>\n",
              "      <td>b'Moscow Made Plans Months Ago to Invade Georgia'</td>\n",
              "      <td>b'Why Russias response to Georgia was right'</td>\n",
              "      <td>b'Nigeria has handed over the potentially oil-...</td>\n",
              "      <td>b'The US and Poland have agreed a preliminary ...</td>\n",
              "      <td>b'Russia apparently is sabotaging infrastructu...</td>\n",
              "      <td>b'Bank analyst forecast Georgian crisis 2 days...</td>\n",
              "      <td>b\"Georgia confict could set back Russia's US r...</td>\n",
              "      <td>b'War in the Caucasus is as much the product o...</td>\n",
              "      <td>b'\"Non-media\" photos of South Ossetia/Georgia ...</td>\n",
              "      <td>b'Georgian TV reporter shot by Russian sniper ...</td>\n",
              "      <td>b'Saudi Arabia: Mother moves to block child ma...</td>\n",
              "      <td>b'Taliban wages war on humanitarian aid workers'</td>\n",
              "      <td>b'Russia: World  \"can forget about\" Georgia\\'s...</td>\n",
              "      <td>b'Darfur rebels accuse Sudan of mounting major...</td>\n",
              "      <td>b'Philippines : Peace Advocate say Muslims nee...</td>\n",
              "    </tr>\n",
              "  </tbody>\n",
              "</table>\n",
              "</div>"
            ],
            "text/plain": [
              "         Date  ...                                              Top25\n",
              "0  2008-08-08  ...           b\"No Help for Mexico's Kidnapping Surge\"\n",
              "1  2008-08-11  ...  b\"So this is what it's come to: trading sex fo...\n",
              "2  2008-08-12  ...  b\"BBC NEWS | Asia-Pacific | Extinction 'by man...\n",
              "3  2008-08-13  ...  b'2006: Nobel laureate Aleksander Solzhenitsyn...\n",
              "4  2008-08-14  ...  b'Philippines : Peace Advocate say Muslims nee...\n",
              "\n",
              "[5 rows x 27 columns]"
            ]
          },
          "metadata": {},
          "execution_count": 9
        }
      ]
    },
    {
      "cell_type": "code",
      "metadata": {
        "colab": {
          "base_uri": "https://localhost:8080/",
          "height": 297
        },
        "id": "ce8w0eVpk6Da",
        "outputId": "fa0fe587-780a-4f16-97c0-e6d9556829e1"
      },
      "source": [
        "# To dee overview of data\n",
        "df.describe()"
      ],
      "execution_count": 10,
      "outputs": [
        {
          "output_type": "execute_result",
          "data": {
            "text/html": [
              "<div>\n",
              "<style scoped>\n",
              "    .dataframe tbody tr th:only-of-type {\n",
              "        vertical-align: middle;\n",
              "    }\n",
              "\n",
              "    .dataframe tbody tr th {\n",
              "        vertical-align: top;\n",
              "    }\n",
              "\n",
              "    .dataframe thead th {\n",
              "        text-align: right;\n",
              "    }\n",
              "</style>\n",
              "<table border=\"1\" class=\"dataframe\">\n",
              "  <thead>\n",
              "    <tr style=\"text-align: right;\">\n",
              "      <th></th>\n",
              "      <th>Label</th>\n",
              "    </tr>\n",
              "  </thead>\n",
              "  <tbody>\n",
              "    <tr>\n",
              "      <th>count</th>\n",
              "      <td>1989.000000</td>\n",
              "    </tr>\n",
              "    <tr>\n",
              "      <th>mean</th>\n",
              "      <td>0.535445</td>\n",
              "    </tr>\n",
              "    <tr>\n",
              "      <th>std</th>\n",
              "      <td>0.498867</td>\n",
              "    </tr>\n",
              "    <tr>\n",
              "      <th>min</th>\n",
              "      <td>0.000000</td>\n",
              "    </tr>\n",
              "    <tr>\n",
              "      <th>25%</th>\n",
              "      <td>0.000000</td>\n",
              "    </tr>\n",
              "    <tr>\n",
              "      <th>50%</th>\n",
              "      <td>1.000000</td>\n",
              "    </tr>\n",
              "    <tr>\n",
              "      <th>75%</th>\n",
              "      <td>1.000000</td>\n",
              "    </tr>\n",
              "    <tr>\n",
              "      <th>max</th>\n",
              "      <td>1.000000</td>\n",
              "    </tr>\n",
              "  </tbody>\n",
              "</table>\n",
              "</div>"
            ],
            "text/plain": [
              "             Label\n",
              "count  1989.000000\n",
              "mean      0.535445\n",
              "std       0.498867\n",
              "min       0.000000\n",
              "25%       0.000000\n",
              "50%       1.000000\n",
              "75%       1.000000\n",
              "max       1.000000"
            ]
          },
          "metadata": {},
          "execution_count": 10
        }
      ]
    },
    {
      "cell_type": "code",
      "metadata": {
        "colab": {
          "base_uri": "https://localhost:8080/"
        },
        "id": "avHimG4DuANq",
        "outputId": "5fe5e89e-8807-4946-afbe-5d035fa2a7ff"
      },
      "source": [
        "# To see data contents\n",
        "for i in range(1,25):\n",
        "  print(df.iloc[0]['Top'+str(i)], '\\n')"
      ],
      "execution_count": 11,
      "outputs": [
        {
          "output_type": "stream",
          "text": [
            "b\"Georgia 'downs two Russian warplanes' as countries move to brink of war\" \n",
            "\n",
            "b'BREAKING: Musharraf to be impeached.' \n",
            "\n",
            "b'Russia Today: Columns of troops roll into South Ossetia; footage from fighting (YouTube)' \n",
            "\n",
            "b'Russian tanks are moving towards the capital of South Ossetia, which has reportedly been completely destroyed by Georgian artillery fire' \n",
            "\n",
            "b\"Afghan children raped with 'impunity,' U.N. official says - this is sick, a three year old was raped and they do nothing\" \n",
            "\n",
            "b'150 Russian tanks have entered South Ossetia whilst Georgia shoots down two Russian jets.' \n",
            "\n",
            "b\"Breaking: Georgia invades South Ossetia, Russia warned it would intervene on SO's side\" \n",
            "\n",
            "b\"The 'enemy combatent' trials are nothing but a sham: Salim Haman has been sentenced to 5 1/2 years, but will be kept longer anyway just because they feel like it.\" \n",
            "\n",
            "b'Georgian troops retreat from S. Osettain capital, presumably leaving several hundred people killed. [VIDEO]' \n",
            "\n",
            "b'Did the U.S. Prep Georgia for War with Russia?' \n",
            "\n",
            "b'Rice Gives Green Light for Israel to Attack Iran: Says U.S. has no veto over Israeli military ops' \n",
            "\n",
            "b'Announcing:Class Action Lawsuit on Behalf of American Public Against the FBI' \n",
            "\n",
            "b\"So---Russia and Georgia are at war and the NYT's top story is opening ceremonies of the Olympics?  What a fucking disgrace and yet further proof of the decline of journalism.\" \n",
            "\n",
            "b\"China tells Bush to stay out of other countries' affairs\" \n",
            "\n",
            "b'Did World War III start today?' \n",
            "\n",
            "b'Georgia Invades South Ossetia - if Russia gets involved, will NATO absorb Georgia and unleash a full scale war?' \n",
            "\n",
            "b'Al-Qaeda Faces Islamist Backlash' \n",
            "\n",
            "b'Condoleezza Rice: \"The US would not act to prevent an Israeli strike on Iran.\" Israeli Defense Minister Ehud Barak: \"Israel is prepared for uncompromising victory in the case of military hostilities.\"' \n",
            "\n",
            "b'This is a busy day:  The European Union has approved new sanctions against Iran in protest at its nuclear programme.' \n",
            "\n",
            "b\"Georgia will withdraw 1,000 soldiers from Iraq to help fight off Russian forces in Georgia's breakaway region of South Ossetia\" \n",
            "\n",
            "b'Why the Pentagon Thinks Attacking Iran is a Bad Idea - US News &amp; World Report' \n",
            "\n",
            "b'Caucasus in crisis: Georgia invades South Ossetia' \n",
            "\n",
            "b'Indian shoe manufactory  - And again in a series of \"you do not like your work?\"' \n",
            "\n",
            "b'Visitors Suffering from Mental Illnesses Banned from Olympics' \n",
            "\n"
          ],
          "name": "stdout"
        }
      ]
    },
    {
      "cell_type": "code",
      "metadata": {
        "colab": {
          "base_uri": "https://localhost:8080/"
        },
        "id": "VH9aKX7HuBeu",
        "outputId": "214409bf-6642-4209-d749-3dd1a1da0683"
      },
      "source": [
        "# To check date range of data\n",
        "print('max_date: ', df['Date'].max())\n",
        "print('min_date: ', df['Date'].min())"
      ],
      "execution_count": 12,
      "outputs": [
        {
          "output_type": "stream",
          "text": [
            "max_date:  2016-07-01\n",
            "min_date:  2008-08-08\n"
          ],
          "name": "stdout"
        }
      ]
    },
    {
      "cell_type": "code",
      "metadata": {
        "colab": {
          "base_uri": "https://localhost:8080/"
        },
        "id": "HGGw6Sl3PCId",
        "outputId": "786088ea-4f1d-4711-da66-043c333a4dbd"
      },
      "source": [
        "# To see number of data\n",
        "len(df)"
      ],
      "execution_count": 13,
      "outputs": [
        {
          "output_type": "execute_result",
          "data": {
            "text/plain": [
              "1989"
            ]
          },
          "metadata": {},
          "execution_count": 13
        }
      ]
    },
    {
      "cell_type": "code",
      "metadata": {
        "colab": {
          "base_uri": "https://localhost:8080/",
          "height": 142
        },
        "id": "tR5ZXWi5K9zF",
        "outputId": "c5157b77-9ff4-40b2-a380-64bc53b370d8"
      },
      "source": [
        "# To see number of data for each label (0, 1)\n",
        "df.groupby('Label').count()"
      ],
      "execution_count": 14,
      "outputs": [
        {
          "output_type": "execute_result",
          "data": {
            "text/html": [
              "<div>\n",
              "<style scoped>\n",
              "    .dataframe tbody tr th:only-of-type {\n",
              "        vertical-align: middle;\n",
              "    }\n",
              "\n",
              "    .dataframe tbody tr th {\n",
              "        vertical-align: top;\n",
              "    }\n",
              "\n",
              "    .dataframe thead th {\n",
              "        text-align: right;\n",
              "    }\n",
              "</style>\n",
              "<table border=\"1\" class=\"dataframe\">\n",
              "  <thead>\n",
              "    <tr style=\"text-align: right;\">\n",
              "      <th></th>\n",
              "      <th>Date</th>\n",
              "      <th>Top1</th>\n",
              "      <th>Top2</th>\n",
              "      <th>Top3</th>\n",
              "      <th>Top4</th>\n",
              "      <th>Top5</th>\n",
              "      <th>Top6</th>\n",
              "      <th>Top7</th>\n",
              "      <th>Top8</th>\n",
              "      <th>Top9</th>\n",
              "      <th>Top10</th>\n",
              "      <th>Top11</th>\n",
              "      <th>Top12</th>\n",
              "      <th>Top13</th>\n",
              "      <th>Top14</th>\n",
              "      <th>Top15</th>\n",
              "      <th>Top16</th>\n",
              "      <th>Top17</th>\n",
              "      <th>Top18</th>\n",
              "      <th>Top19</th>\n",
              "      <th>Top20</th>\n",
              "      <th>Top21</th>\n",
              "      <th>Top22</th>\n",
              "      <th>Top23</th>\n",
              "      <th>Top24</th>\n",
              "      <th>Top25</th>\n",
              "    </tr>\n",
              "    <tr>\n",
              "      <th>Label</th>\n",
              "      <th></th>\n",
              "      <th></th>\n",
              "      <th></th>\n",
              "      <th></th>\n",
              "      <th></th>\n",
              "      <th></th>\n",
              "      <th></th>\n",
              "      <th></th>\n",
              "      <th></th>\n",
              "      <th></th>\n",
              "      <th></th>\n",
              "      <th></th>\n",
              "      <th></th>\n",
              "      <th></th>\n",
              "      <th></th>\n",
              "      <th></th>\n",
              "      <th></th>\n",
              "      <th></th>\n",
              "      <th></th>\n",
              "      <th></th>\n",
              "      <th></th>\n",
              "      <th></th>\n",
              "      <th></th>\n",
              "      <th></th>\n",
              "      <th></th>\n",
              "      <th></th>\n",
              "    </tr>\n",
              "  </thead>\n",
              "  <tbody>\n",
              "    <tr>\n",
              "      <th>0</th>\n",
              "      <td>924</td>\n",
              "      <td>924</td>\n",
              "      <td>924</td>\n",
              "      <td>924</td>\n",
              "      <td>924</td>\n",
              "      <td>924</td>\n",
              "      <td>924</td>\n",
              "      <td>924</td>\n",
              "      <td>924</td>\n",
              "      <td>924</td>\n",
              "      <td>924</td>\n",
              "      <td>924</td>\n",
              "      <td>924</td>\n",
              "      <td>924</td>\n",
              "      <td>924</td>\n",
              "      <td>924</td>\n",
              "      <td>924</td>\n",
              "      <td>924</td>\n",
              "      <td>924</td>\n",
              "      <td>924</td>\n",
              "      <td>924</td>\n",
              "      <td>924</td>\n",
              "      <td>924</td>\n",
              "      <td>924</td>\n",
              "      <td>924</td>\n",
              "      <td>924</td>\n",
              "    </tr>\n",
              "    <tr>\n",
              "      <th>1</th>\n",
              "      <td>1065</td>\n",
              "      <td>1065</td>\n",
              "      <td>1065</td>\n",
              "      <td>1065</td>\n",
              "      <td>1065</td>\n",
              "      <td>1065</td>\n",
              "      <td>1065</td>\n",
              "      <td>1065</td>\n",
              "      <td>1065</td>\n",
              "      <td>1065</td>\n",
              "      <td>1065</td>\n",
              "      <td>1065</td>\n",
              "      <td>1065</td>\n",
              "      <td>1065</td>\n",
              "      <td>1065</td>\n",
              "      <td>1065</td>\n",
              "      <td>1065</td>\n",
              "      <td>1065</td>\n",
              "      <td>1065</td>\n",
              "      <td>1065</td>\n",
              "      <td>1065</td>\n",
              "      <td>1065</td>\n",
              "      <td>1065</td>\n",
              "      <td>1064</td>\n",
              "      <td>1062</td>\n",
              "      <td>1062</td>\n",
              "    </tr>\n",
              "  </tbody>\n",
              "</table>\n",
              "</div>"
            ],
            "text/plain": [
              "       Date  Top1  Top2  Top3  Top4  ...  Top21  Top22  Top23  Top24  Top25\n",
              "Label                                ...                                   \n",
              "0       924   924   924   924   924  ...    924    924    924    924    924\n",
              "1      1065  1065  1065  1065  1065  ...   1065   1065   1064   1062   1062\n",
              "\n",
              "[2 rows x 26 columns]"
            ]
          },
          "metadata": {},
          "execution_count": 14
        }
      ]
    },
    {
      "cell_type": "markdown",
      "metadata": {
        "id": "lkD_1SwwLL0c"
      },
      "source": [
        "2. Data Preprocessing"
      ]
    },
    {
      "cell_type": "code",
      "metadata": {
        "id": "8EteTAq9ywiz"
      },
      "source": [
        "def remove_byte(x):\n",
        "  try:\n",
        "    x = re.sub('^[b]', '', x)\n",
        "  except:\n",
        "    pass\n",
        "  return x"
      ],
      "execution_count": 15,
      "outputs": []
    },
    {
      "cell_type": "code",
      "metadata": {
        "id": "0q9KtFzPuVwT"
      },
      "source": [
        "# Clean message - to remove 'b'\n",
        "for i in range(1, 25, 1):\n",
        "  df['Top' + str(i)] = df['Top' + str(i)].apply(lambda x: remove_byte(x))"
      ],
      "execution_count": 16,
      "outputs": []
    },
    {
      "cell_type": "code",
      "metadata": {
        "colab": {
          "base_uri": "https://localhost:8080/",
          "height": 1000
        },
        "id": "aJMusKCyxJH6",
        "outputId": "fb66222d-5263-43f5-f9ba-952603630d40"
      },
      "source": [
        "df"
      ],
      "execution_count": 17,
      "outputs": [
        {
          "output_type": "execute_result",
          "data": {
            "text/html": [
              "<div>\n",
              "<style scoped>\n",
              "    .dataframe tbody tr th:only-of-type {\n",
              "        vertical-align: middle;\n",
              "    }\n",
              "\n",
              "    .dataframe tbody tr th {\n",
              "        vertical-align: top;\n",
              "    }\n",
              "\n",
              "    .dataframe thead th {\n",
              "        text-align: right;\n",
              "    }\n",
              "</style>\n",
              "<table border=\"1\" class=\"dataframe\">\n",
              "  <thead>\n",
              "    <tr style=\"text-align: right;\">\n",
              "      <th></th>\n",
              "      <th>Date</th>\n",
              "      <th>Label</th>\n",
              "      <th>Top1</th>\n",
              "      <th>Top2</th>\n",
              "      <th>Top3</th>\n",
              "      <th>Top4</th>\n",
              "      <th>Top5</th>\n",
              "      <th>Top6</th>\n",
              "      <th>Top7</th>\n",
              "      <th>Top8</th>\n",
              "      <th>Top9</th>\n",
              "      <th>Top10</th>\n",
              "      <th>Top11</th>\n",
              "      <th>Top12</th>\n",
              "      <th>Top13</th>\n",
              "      <th>Top14</th>\n",
              "      <th>Top15</th>\n",
              "      <th>Top16</th>\n",
              "      <th>Top17</th>\n",
              "      <th>Top18</th>\n",
              "      <th>Top19</th>\n",
              "      <th>Top20</th>\n",
              "      <th>Top21</th>\n",
              "      <th>Top22</th>\n",
              "      <th>Top23</th>\n",
              "      <th>Top24</th>\n",
              "      <th>Top25</th>\n",
              "    </tr>\n",
              "  </thead>\n",
              "  <tbody>\n",
              "    <tr>\n",
              "      <th>0</th>\n",
              "      <td>2008-08-08</td>\n",
              "      <td>0</td>\n",
              "      <td>\"Georgia 'downs two Russian warplanes' as coun...</td>\n",
              "      <td>'BREAKING: Musharraf to be impeached.'</td>\n",
              "      <td>'Russia Today: Columns of troops roll into Sou...</td>\n",
              "      <td>'Russian tanks are moving towards the capital ...</td>\n",
              "      <td>\"Afghan children raped with 'impunity,' U.N. o...</td>\n",
              "      <td>'150 Russian tanks have entered South Ossetia ...</td>\n",
              "      <td>\"Breaking: Georgia invades South Ossetia, Russ...</td>\n",
              "      <td>\"The 'enemy combatent' trials are nothing but ...</td>\n",
              "      <td>'Georgian troops retreat from S. Osettain capi...</td>\n",
              "      <td>'Did the U.S. Prep Georgia for War with Russia?'</td>\n",
              "      <td>'Rice Gives Green Light for Israel to Attack I...</td>\n",
              "      <td>'Announcing:Class Action Lawsuit on Behalf of ...</td>\n",
              "      <td>\"So---Russia and Georgia are at war and the NY...</td>\n",
              "      <td>\"China tells Bush to stay out of other countri...</td>\n",
              "      <td>'Did World War III start today?'</td>\n",
              "      <td>'Georgia Invades South Ossetia - if Russia get...</td>\n",
              "      <td>'Al-Qaeda Faces Islamist Backlash'</td>\n",
              "      <td>'Condoleezza Rice: \"The US would not act to pr...</td>\n",
              "      <td>'This is a busy day:  The European Union has a...</td>\n",
              "      <td>\"Georgia will withdraw 1,000 soldiers from Ira...</td>\n",
              "      <td>'Why the Pentagon Thinks Attacking Iran is a B...</td>\n",
              "      <td>'Caucasus in crisis: Georgia invades South Oss...</td>\n",
              "      <td>'Indian shoe manufactory  - And again in a ser...</td>\n",
              "      <td>'Visitors Suffering from Mental Illnesses Bann...</td>\n",
              "      <td>b\"No Help for Mexico's Kidnapping Surge\"</td>\n",
              "    </tr>\n",
              "    <tr>\n",
              "      <th>1</th>\n",
              "      <td>2008-08-11</td>\n",
              "      <td>1</td>\n",
              "      <td>'Why wont America and Nato help us? If they wo...</td>\n",
              "      <td>'Bush puts foot down on Georgian conflict'</td>\n",
              "      <td>\"Jewish Georgian minister: Thanks to Israeli t...</td>\n",
              "      <td>'Georgian army flees in disarray as Russians a...</td>\n",
              "      <td>\"Olympic opening ceremony fireworks 'faked'\"</td>\n",
              "      <td>'What were the Mossad with fraudulent New Zeal...</td>\n",
              "      <td>'Russia angered by Israeli military sale to Ge...</td>\n",
              "      <td>'An American citizen living in S.Ossetia blame...</td>\n",
              "      <td>'Welcome To World War IV! Now In High Definiti...</td>\n",
              "      <td>\"Georgia's move, a mistake of monumental propo...</td>\n",
              "      <td>'Russia presses deeper into Georgia; U.S. says...</td>\n",
              "      <td>'Abhinav Bindra wins first ever Individual Oly...</td>\n",
              "      <td>' U.S. ship heads for Arctic to define territory'</td>\n",
              "      <td>'Drivers in a Jerusalem taxi station threaten ...</td>\n",
              "      <td>'The French Team is Stunned by Phelps and the ...</td>\n",
              "      <td>'Israel and the US behind the Georgian aggress...</td>\n",
              "      <td>'\"Do not believe TV, neither Russian nor Georg...</td>\n",
              "      <td>'Riots are still going on in Montreal (Canada)...</td>\n",
              "      <td>'China to overtake US as largest manufacturer'</td>\n",
              "      <td>'War in South Ossetia [PICS]'</td>\n",
              "      <td>'Israeli Physicians Group Condemns State Torture'</td>\n",
              "      <td>' Russia has just beaten the United States ove...</td>\n",
              "      <td>'Perhaps *the* question about the Georgia - Ru...</td>\n",
              "      <td>'Russia is so much better at war'</td>\n",
              "      <td>b\"So this is what it's come to: trading sex fo...</td>\n",
              "    </tr>\n",
              "    <tr>\n",
              "      <th>2</th>\n",
              "      <td>2008-08-12</td>\n",
              "      <td>0</td>\n",
              "      <td>'Remember that adorable 9-year-old who sang at...</td>\n",
              "      <td>\"Russia 'ends Georgia operation'\"</td>\n",
              "      <td>'\"If we had no sexual harassment we would have...</td>\n",
              "      <td>\"Al-Qa'eda is losing support in Iraq because o...</td>\n",
              "      <td>'Ceasefire in Georgia: Putin Outmaneuvers the ...</td>\n",
              "      <td>'Why Microsoft and Intel tried to kill the XO ...</td>\n",
              "      <td>'Stratfor: The Russo-Georgian War and the Bala...</td>\n",
              "      <td>\"I'm Trying to Get a Sense of This Whole Georg...</td>\n",
              "      <td>\"The US military was surprised by the timing a...</td>\n",
              "      <td>'U.S. Beats War Drum as Iran Dumps the Dollar'</td>\n",
              "      <td>'Gorbachev: \"Georgian military attacked the So...</td>\n",
              "      <td>'CNN use footage of Tskhinvali ruins to cover ...</td>\n",
              "      <td>'Beginning a war as the Olympics were opening ...</td>\n",
              "      <td>'55 pyramids as large as the Luxor stacked int...</td>\n",
              "      <td>'The 11 Top Party Cities in the World'</td>\n",
              "      <td>'U.S. troops still in Georgia (did you know th...</td>\n",
              "      <td>'Why Russias response to Georgia was right'</td>\n",
              "      <td>'Gorbachev accuses U.S. of making a \"serious b...</td>\n",
              "      <td>'Russia, Georgia, and NATO: Cold War Two'</td>\n",
              "      <td>'Remember that adorable 62-year-old who led yo...</td>\n",
              "      <td>'War in Georgia: The Israeli connection'</td>\n",
              "      <td>'All signs point to the US encouraging Georgia...</td>\n",
              "      <td>'Christopher King argues that the US and NATO ...</td>\n",
              "      <td>'America: The New Mexico?'</td>\n",
              "      <td>b\"BBC NEWS | Asia-Pacific | Extinction 'by man...</td>\n",
              "    </tr>\n",
              "    <tr>\n",
              "      <th>3</th>\n",
              "      <td>2008-08-13</td>\n",
              "      <td>0</td>\n",
              "      <td>' U.S. refuses Israel weapons to attack Iran: ...</td>\n",
              "      <td>\"When the president ordered to attack Tskhinva...</td>\n",
              "      <td>' Israel clears troops who killed Reuters came...</td>\n",
              "      <td>'Britain\\'s policy of being tough on drugs is ...</td>\n",
              "      <td>'Body of 14 year old found in trunk; Latest (r...</td>\n",
              "      <td>'China has moved 10 *million* quake survivors ...</td>\n",
              "      <td>\"Bush announces Operation Get All Up In Russia...</td>\n",
              "      <td>'Russian forces sink Georgian ships '</td>\n",
              "      <td>\"The commander of a Navy air reconnaissance sq...</td>\n",
              "      <td>\"92% of CNN readers: Russia's actions in Georg...</td>\n",
              "      <td>'USA to send fleet into Black Sea to help Geor...</td>\n",
              "      <td>\"US warns against Israeli plan to strike again...</td>\n",
              "      <td>\"In an intriguing cyberalliance, two Estonian ...</td>\n",
              "      <td>'The CNN Effect: Georgia Schools Russia in Inf...</td>\n",
              "      <td>'Why Russias response to Georgia was right'</td>\n",
              "      <td>'Elephants extinct by 2020?'</td>\n",
              "      <td>'US humanitarian missions soon in Georgia - if...</td>\n",
              "      <td>\"Georgia's DDOS came from US sources\"</td>\n",
              "      <td>'Russian convoy heads into Georgia, violating ...</td>\n",
              "      <td>'Israeli defence minister: US against strike o...</td>\n",
              "      <td>'Gorbachev: We Had No Choice'</td>\n",
              "      <td>'Witness: Russian forces head towards Tbilisi ...</td>\n",
              "      <td>' Quarter of Russians blame U.S. for conflict:...</td>\n",
              "      <td>'Georgian president  says US military will tak...</td>\n",
              "      <td>b'2006: Nobel laureate Aleksander Solzhenitsyn...</td>\n",
              "    </tr>\n",
              "    <tr>\n",
              "      <th>4</th>\n",
              "      <td>2008-08-14</td>\n",
              "      <td>1</td>\n",
              "      <td>'All the experts admit that we should legalise...</td>\n",
              "      <td>'War in South Osetia - 89 pictures made by a R...</td>\n",
              "      <td>'Swedish wrestler Ara Abrahamian throws away m...</td>\n",
              "      <td>'Russia exaggerated the death toll in South Os...</td>\n",
              "      <td>'Missile That Killed 9 Inside Pakistan May Hav...</td>\n",
              "      <td>\"Rushdie Condemns Random House's Refusal to Pu...</td>\n",
              "      <td>'Poland and US agree to missle defense deal. I...</td>\n",
              "      <td>'Will the Russians conquer Tblisi? Bet on it, ...</td>\n",
              "      <td>'Russia exaggerating South Ossetian death toll...</td>\n",
              "      <td>' Musharraf expected to resign rather than fac...</td>\n",
              "      <td>'Moscow Made Plans Months Ago to Invade Georgia'</td>\n",
              "      <td>'Why Russias response to Georgia was right'</td>\n",
              "      <td>'Nigeria has handed over the potentially oil-r...</td>\n",
              "      <td>'The US and Poland have agreed a preliminary d...</td>\n",
              "      <td>'Russia apparently is sabotaging infrastructur...</td>\n",
              "      <td>'Bank analyst forecast Georgian crisis 2 days ...</td>\n",
              "      <td>\"Georgia confict could set back Russia's US re...</td>\n",
              "      <td>'War in the Caucasus is as much the product of...</td>\n",
              "      <td>'\"Non-media\" photos of South Ossetia/Georgia c...</td>\n",
              "      <td>'Georgian TV reporter shot by Russian sniper d...</td>\n",
              "      <td>'Saudi Arabia: Mother moves to block child mar...</td>\n",
              "      <td>'Taliban wages war on humanitarian aid workers'</td>\n",
              "      <td>'Russia: World  \"can forget about\" Georgia\\'s ...</td>\n",
              "      <td>'Darfur rebels accuse Sudan of mounting major ...</td>\n",
              "      <td>b'Philippines : Peace Advocate say Muslims nee...</td>\n",
              "    </tr>\n",
              "    <tr>\n",
              "      <th>...</th>\n",
              "      <td>...</td>\n",
              "      <td>...</td>\n",
              "      <td>...</td>\n",
              "      <td>...</td>\n",
              "      <td>...</td>\n",
              "      <td>...</td>\n",
              "      <td>...</td>\n",
              "      <td>...</td>\n",
              "      <td>...</td>\n",
              "      <td>...</td>\n",
              "      <td>...</td>\n",
              "      <td>...</td>\n",
              "      <td>...</td>\n",
              "      <td>...</td>\n",
              "      <td>...</td>\n",
              "      <td>...</td>\n",
              "      <td>...</td>\n",
              "      <td>...</td>\n",
              "      <td>...</td>\n",
              "      <td>...</td>\n",
              "      <td>...</td>\n",
              "      <td>...</td>\n",
              "      <td>...</td>\n",
              "      <td>...</td>\n",
              "      <td>...</td>\n",
              "      <td>...</td>\n",
              "      <td>...</td>\n",
              "    </tr>\n",
              "    <tr>\n",
              "      <th>1984</th>\n",
              "      <td>2016-06-27</td>\n",
              "      <td>0</td>\n",
              "      <td>Barclays and RBS shares suspended from trading...</td>\n",
              "      <td>Pope says Church should ask forgiveness from g...</td>\n",
              "      <td>Poland 'shocked' by xenophobic abuse of Poles ...</td>\n",
              "      <td>There will be no second referendum, cabinet ag...</td>\n",
              "      <td>Scotland welcome to join EU, Merkel ally says</td>\n",
              "      <td>Sterling dips below Friday's 31-year low amid ...</td>\n",
              "      <td>No negative news about South African President...</td>\n",
              "      <td>Surge in Hate Crimes in the U.K. Following U.K...</td>\n",
              "      <td>Weapons shipped into Jordan by the CIA and Sau...</td>\n",
              "      <td>Angela Merkel said the U.K. must file exit pap...</td>\n",
              "      <td>In a birth offering hope to a threatened speci...</td>\n",
              "      <td>Sky News Journalist Left Speechless As Leave M...</td>\n",
              "      <td>Giant panda in Macau gives birth to twins</td>\n",
              "      <td>Get out now: EU leader tells Britain it must i...</td>\n",
              "      <td>Sea turtle 'beaten and left for dead' on beach...</td>\n",
              "      <td>German lawyers to probe Erdogan over alleged w...</td>\n",
              "      <td>Boris Johnson says the UK will continue to \"in...</td>\n",
              "      <td>Richard Branson is calling on the UK governmen...</td>\n",
              "      <td>Turkey 'sorry for downing Russian jet'</td>\n",
              "      <td>Edward Snowden lawyer vows new push for pardon...</td>\n",
              "      <td>Brexit opinion poll reveals majority don't wan...</td>\n",
              "      <td>Conservative MP Leave Campaigner: \"The leave c...</td>\n",
              "      <td>Economists predict UK recession, further weake...</td>\n",
              "      <td>New EU 'superstate plan by France, Germany: Cr...</td>\n",
              "      <td>Pakistani clerics declare transgender marriage...</td>\n",
              "    </tr>\n",
              "    <tr>\n",
              "      <th>1985</th>\n",
              "      <td>2016-06-28</td>\n",
              "      <td>1</td>\n",
              "      <td>2,500 Scientists To Australia: If You Want To ...</td>\n",
              "      <td>The personal details of 112,000 French police ...</td>\n",
              "      <td>S&amp;amp;P cuts United Kingdom sovereign credit r...</td>\n",
              "      <td>Huge helium deposit found in Africa</td>\n",
              "      <td>CEO of the South African state broadcaster qui...</td>\n",
              "      <td>Brexit cost investors $2 trillion, the worst o...</td>\n",
              "      <td>Hong Kong democracy activists call for return ...</td>\n",
              "      <td>Brexit: Iceland president says UK can join 'tr...</td>\n",
              "      <td>UK's Osborne: 'Absolutely' going to have to cu...</td>\n",
              "      <td>'Do not let Scotland down now' : Scottish MEP ...</td>\n",
              "      <td>British pound could hit history-making dollar ...</td>\n",
              "      <td>Merkel vows to strengthen EU, tells UK no 'che...</td>\n",
              "      <td>\"Ryanair will not deploy new aircraft on route...</td>\n",
              "      <td>People, ever more greedy and stupid, destroy t...</td>\n",
              "      <td>Siemens freezes new UK wind power investment f...</td>\n",
              "      <td>US, Canada and Mexico pledge 50% of power from...</td>\n",
              "      <td>There is increasing evidence that Australia is...</td>\n",
              "      <td>Richard Branson, the founder of Virgin Group, ...</td>\n",
              "      <td>37,000-yr-old skull from Borneo reveals surpri...</td>\n",
              "      <td>Palestinians stone Western Wall worshipers; po...</td>\n",
              "      <td>Jean-Claude Juncker asks Farage: Why are you h...</td>\n",
              "      <td>\"Romanians for Remainians\" offering a new home...</td>\n",
              "      <td>Brexit: Gibraltar in talks with Scotland to st...</td>\n",
              "      <td>8 Suicide Bombers Strike Lebanon</td>\n",
              "      <td>Mexico's security forces routinely use 'sexual...</td>\n",
              "    </tr>\n",
              "    <tr>\n",
              "      <th>1986</th>\n",
              "      <td>2016-06-29</td>\n",
              "      <td>1</td>\n",
              "      <td>Explosion At Airport In Istanbul</td>\n",
              "      <td>Yemeni former president: Terrorism is the offs...</td>\n",
              "      <td>UK must accept freedom of movement to access E...</td>\n",
              "      <td>Devastated: scientists too late to captive bre...</td>\n",
              "      <td>British Labor Party leader Jeremy Corbyn loses...</td>\n",
              "      <td>A Muslim Shop in the UK Was Just Firebombed Wh...</td>\n",
              "      <td>Mexican Authorities Sexually Torture Women in ...</td>\n",
              "      <td>UK shares and pound continue to recover</td>\n",
              "      <td>Iceland historian Johannesson wins presidentia...</td>\n",
              "      <td>99-Million-Yr-Old Bird Wings Found Encased in ...</td>\n",
              "      <td>A chatbot programmed by a British teenager has...</td>\n",
              "      <td>The Philippine president-elect said Monday he ...</td>\n",
              "      <td>Former Belgian Prime Minister ridicules Nigel ...</td>\n",
              "      <td>Brexiteer Nigel Farage To EU: 'You're Not Laug...</td>\n",
              "      <td>Islamic State bombings in southern Yemen kill ...</td>\n",
              "      <td>Escape Tunnel, Dug by Hand, Is Found at Holoca...</td>\n",
              "      <td>The land under Beijing is sinking by as much a...</td>\n",
              "      <td>Car bomb and Anti-Islamic attack on Mosque in ...</td>\n",
              "      <td>Emaciated lions in Taiz Zoo are trapped in blo...</td>\n",
              "      <td>Rupert Murdoch describes Brexit as 'wonderful'...</td>\n",
              "      <td>More than 40 killed in Yemen suicide attacks</td>\n",
              "      <td>Google Found Disastrous Symantec and Norton Vu...</td>\n",
              "      <td>Extremist violence on the rise in Germany: Dom...</td>\n",
              "      <td>BBC News: Labour MPs pass Corbyn no-confidence...</td>\n",
              "      <td>Tiny New Zealand town with 'too many jobs' lau...</td>\n",
              "    </tr>\n",
              "    <tr>\n",
              "      <th>1987</th>\n",
              "      <td>2016-06-30</td>\n",
              "      <td>1</td>\n",
              "      <td>Jamaica proposes marijuana dispensers for tour...</td>\n",
              "      <td>Stephen Hawking says pollution and 'stupidity'...</td>\n",
              "      <td>Boris Johnson says he will not run for Tory pa...</td>\n",
              "      <td>Six gay men in Ivory Coast were abused and for...</td>\n",
              "      <td>Switzerland denies citizenship to Muslim immig...</td>\n",
              "      <td>Palestinian terrorist stabs israeli teen girl ...</td>\n",
              "      <td>Puerto Rico will default on $1 billion of debt...</td>\n",
              "      <td>Republic of Ireland fans to be awarded medal f...</td>\n",
              "      <td>Afghan suicide bomber 'kills up to 40' - BBC News</td>\n",
              "      <td>US airstrikes kill at least 250 ISIS fighters ...</td>\n",
              "      <td>Turkish Cop Who Took Down Istanbul Gunman Hail...</td>\n",
              "      <td>Cannabis compounds could treat Alzheimer's by ...</td>\n",
              "      <td>Japan's top court has approved blanket surveil...</td>\n",
              "      <td>CIA Gave Romania Millions to Host Secret Prisons</td>\n",
              "      <td>Groups urge U.N. to suspend Saudi Arabia from ...</td>\n",
              "      <td>Googles free wifi at Indian railway stations i...</td>\n",
              "      <td>Mounting evidence suggests 'hobbits' were wipe...</td>\n",
              "      <td>The men who carried out Tuesday's terror attac...</td>\n",
              "      <td>Calls to suspend Saudi Arabia from UN Human Ri...</td>\n",
              "      <td>More Than 100 Nobel Laureates Call Out Greenpe...</td>\n",
              "      <td>British pedophile sentenced to 85 years in US ...</td>\n",
              "      <td>US permitted 1,200 offshore fracks in Gulf of ...</td>\n",
              "      <td>We will be swimming in ridicule - French beach...</td>\n",
              "      <td>UEFA says no minutes of silence for Istanbul v...</td>\n",
              "      <td>Law Enforcement Sources: Gun Used in Paris Ter...</td>\n",
              "    </tr>\n",
              "    <tr>\n",
              "      <th>1988</th>\n",
              "      <td>2016-07-01</td>\n",
              "      <td>1</td>\n",
              "      <td>A 117-year-old woman in Mexico City finally re...</td>\n",
              "      <td>IMF chief backs Athens as permanent Olympic host</td>\n",
              "      <td>The president of France says if Brexit won, so...</td>\n",
              "      <td>British Man Who Must Give Police 24 Hours' Not...</td>\n",
              "      <td>100+ Nobel laureates urge Greenpeace to stop o...</td>\n",
              "      <td>Brazil: Huge spike in number of police killing...</td>\n",
              "      <td>Austria's highest court annuls presidential el...</td>\n",
              "      <td>Facebook wins privacy case, can track any Belg...</td>\n",
              "      <td>Switzerland denies Muslim girls citizenship af...</td>\n",
              "      <td>China kills millions of innocent meditators fo...</td>\n",
              "      <td>France Cracks Down on Factory Farms - A viral ...</td>\n",
              "      <td>Abbas PLO Faction Calls Killer of 13-Year-Old ...</td>\n",
              "      <td>Taiwanese warship accidentally fires missile t...</td>\n",
              "      <td>Iran celebrates American Human Rights Week, mo...</td>\n",
              "      <td>U.N. panel moves to curb bias against L.G.B.T....</td>\n",
              "      <td>The United States has placed Myanmar, Uzbekist...</td>\n",
              "      <td>S&amp;amp;P revises European Union credit rating t...</td>\n",
              "      <td>India gets $1 billion loan from World Bank for...</td>\n",
              "      <td>U.S. sailors detained by Iran spoke too much u...</td>\n",
              "      <td>Mass fish kill in Vietnam solved as Taiwan ste...</td>\n",
              "      <td>Philippines president Rodrigo Duterte urges pe...</td>\n",
              "      <td>Spain arrests three Pakistanis accused of prom...</td>\n",
              "      <td>Venezuela, where anger over food shortages is ...</td>\n",
              "      <td>A Hindu temple worker has been killed by three...</td>\n",
              "      <td>Ozone layer hole seems to be healing - US &amp;amp...</td>\n",
              "    </tr>\n",
              "  </tbody>\n",
              "</table>\n",
              "<p>1989 rows × 27 columns</p>\n",
              "</div>"
            ],
            "text/plain": [
              "            Date  ...                                              Top25\n",
              "0     2008-08-08  ...           b\"No Help for Mexico's Kidnapping Surge\"\n",
              "1     2008-08-11  ...  b\"So this is what it's come to: trading sex fo...\n",
              "2     2008-08-12  ...  b\"BBC NEWS | Asia-Pacific | Extinction 'by man...\n",
              "3     2008-08-13  ...  b'2006: Nobel laureate Aleksander Solzhenitsyn...\n",
              "4     2008-08-14  ...  b'Philippines : Peace Advocate say Muslims nee...\n",
              "...          ...  ...                                                ...\n",
              "1984  2016-06-27  ...  Pakistani clerics declare transgender marriage...\n",
              "1985  2016-06-28  ...  Mexico's security forces routinely use 'sexual...\n",
              "1986  2016-06-29  ...  Tiny New Zealand town with 'too many jobs' lau...\n",
              "1987  2016-06-30  ...  Law Enforcement Sources: Gun Used in Paris Ter...\n",
              "1988  2016-07-01  ...  Ozone layer hole seems to be healing - US &amp...\n",
              "\n",
              "[1989 rows x 27 columns]"
            ]
          },
          "metadata": {},
          "execution_count": 17
        }
      ]
    },
    {
      "cell_type": "code",
      "metadata": {
        "colab": {
          "base_uri": "https://localhost:8080/"
        },
        "id": "MBP2c3XrzHcu",
        "outputId": "fe68ec56-b2e0-4da2-c76b-6f37781c44a3"
      },
      "source": [
        "df['Top1']"
      ],
      "execution_count": 18,
      "outputs": [
        {
          "output_type": "execute_result",
          "data": {
            "text/plain": [
              "0       \"Georgia 'downs two Russian warplanes' as coun...\n",
              "1       'Why wont America and Nato help us? If they wo...\n",
              "2       'Remember that adorable 9-year-old who sang at...\n",
              "3       ' U.S. refuses Israel weapons to attack Iran: ...\n",
              "4       'All the experts admit that we should legalise...\n",
              "                              ...                        \n",
              "1984    Barclays and RBS shares suspended from trading...\n",
              "1985    2,500 Scientists To Australia: If You Want To ...\n",
              "1986                     Explosion At Airport In Istanbul\n",
              "1987    Jamaica proposes marijuana dispensers for tour...\n",
              "1988    A 117-year-old woman in Mexico City finally re...\n",
              "Name: Top1, Length: 1989, dtype: object"
            ]
          },
          "metadata": {},
          "execution_count": 18
        }
      ]
    },
    {
      "cell_type": "code",
      "metadata": {
        "id": "Yvpx0jIBz-Bg"
      },
      "source": [
        "# Create input data (X)\n",
        "# Combine Topic 1 - 25 into one column\n",
        "X = []\n",
        "for i in range(len(df)):\n",
        "  message = ''\n",
        "  for num in range(1, 25, 1):\n",
        "    if num != 1:\n",
        "      message = message + ',' + str(df['Top' + str(num)].iloc[i])\n",
        "    else:\n",
        "      message = str(df['Top' + str(num)].iloc[i])\n",
        "  X.append(message)"
      ],
      "execution_count": 19,
      "outputs": []
    },
    {
      "cell_type": "code",
      "metadata": {
        "id": "AuSpkL-TrPf0"
      },
      "source": [
        "#X = df['Top1'].values.tolist()"
      ],
      "execution_count": 20,
      "outputs": []
    },
    {
      "cell_type": "code",
      "metadata": {
        "colab": {
          "base_uri": "https://localhost:8080/",
          "height": 137
        },
        "id": "47QhI9MKUwJR",
        "outputId": "cb90eff5-9b9d-4792-f2c4-e6cc998aec45"
      },
      "source": [
        "X[0]"
      ],
      "execution_count": 21,
      "outputs": [
        {
          "output_type": "execute_result",
          "data": {
            "application/vnd.google.colaboratory.intrinsic+json": {
              "type": "string"
            },
            "text/plain": [
              "'\"Georgia \\'downs two Russian warplanes\\' as countries move to brink of war\",\\'BREAKING: Musharraf to be impeached.\\',\\'Russia Today: Columns of troops roll into South Ossetia; footage from fighting (YouTube)\\',\\'Russian tanks are moving towards the capital of South Ossetia, which has reportedly been completely destroyed by Georgian artillery fire\\',\"Afghan children raped with \\'impunity,\\' U.N. official says - this is sick, a three year old was raped and they do nothing\",\\'150 Russian tanks have entered South Ossetia whilst Georgia shoots down two Russian jets.\\',\"Breaking: Georgia invades South Ossetia, Russia warned it would intervene on SO\\'s side\",\"The \\'enemy combatent\\' trials are nothing but a sham: Salim Haman has been sentenced to 5 1/2 years, but will be kept longer anyway just because they feel like it.\",\\'Georgian troops retreat from S. Osettain capital, presumably leaving several hundred people killed. [VIDEO]\\',\\'Did the U.S. Prep Georgia for War with Russia?\\',\\'Rice Gives Green Light for Israel to Attack Iran: Says U.S. has no veto over Israeli military ops\\',\\'Announcing:Class Action Lawsuit on Behalf of American Public Against the FBI\\',\"So---Russia and Georgia are at war and the NYT\\'s top story is opening ceremonies of the Olympics?  What a fucking disgrace and yet further proof of the decline of journalism.\",\"China tells Bush to stay out of other countries\\' affairs\",\\'Did World War III start today?\\',\\'Georgia Invades South Ossetia - if Russia gets involved, will NATO absorb Georgia and unleash a full scale war?\\',\\'Al-Qaeda Faces Islamist Backlash\\',\\'Condoleezza Rice: \"The US would not act to prevent an Israeli strike on Iran.\" Israeli Defense Minister Ehud Barak: \"Israel is prepared for uncompromising victory in the case of military hostilities.\"\\',\\'This is a busy day:  The European Union has approved new sanctions against Iran in protest at its nuclear programme.\\',\"Georgia will withdraw 1,000 soldiers from Iraq to help fight off Russian forces in Georgia\\'s breakaway region of South Ossetia\",\\'Why the Pentagon Thinks Attacking Iran is a Bad Idea - US News &amp; World Report\\',\\'Caucasus in crisis: Georgia invades South Ossetia\\',\\'Indian shoe manufactory  - And again in a series of \"you do not like your work?\"\\',\\'Visitors Suffering from Mental Illnesses Banned from Olympics\\''"
            ]
          },
          "metadata": {},
          "execution_count": 21
        }
      ]
    },
    {
      "cell_type": "code",
      "metadata": {
        "id": "Nxvlxekd6Zty"
      },
      "source": [
        "# Create label data (Y)\n",
        "y = df['Label'].values.tolist()"
      ],
      "execution_count": 22,
      "outputs": []
    },
    {
      "cell_type": "code",
      "metadata": {
        "colab": {
          "base_uri": "https://localhost:8080/"
        },
        "id": "G4LsdzR9V_1m",
        "outputId": "5fca3af2-910e-4e68-9ca6-f53b5e03fdbf"
      },
      "source": [
        "y[0]"
      ],
      "execution_count": 23,
      "outputs": [
        {
          "output_type": "execute_result",
          "data": {
            "text/plain": [
              "0"
            ]
          },
          "metadata": {},
          "execution_count": 23
        }
      ]
    },
    {
      "cell_type": "code",
      "metadata": {
        "id": "gUAVsrBBL-GJ"
      },
      "source": [
        "X_train, X_test, y_train, y_test = train_test_split(X, y, test_size=0.20, random_state=12)"
      ],
      "execution_count": 24,
      "outputs": []
    },
    {
      "cell_type": "markdown",
      "metadata": {
        "id": "UNAZiBZo3zMe"
      },
      "source": [
        "**3. Build Transformer**"
      ]
    },
    {
      "cell_type": "markdown",
      "metadata": {
        "id": "eZNpjBBLjVQY"
      },
      "source": [
        "Refer from \n",
        "https://www.tensorflow.org/text/tutorials/classify_text_with_bert\n"
      ]
    },
    {
      "cell_type": "markdown",
      "metadata": {
        "id": "YFtVyz7bXreZ"
      },
      "source": [
        "BERT model selected           : https://tfhub.dev/tensorflow/small_bert/bert_en_uncased_L-4_H-512_A-8/1\n",
        "\n",
        "Preprocess model auto-selected: https://tfhub.dev/tensorflow/bert_en_uncased_preprocess/3\n"
      ]
    },
    {
      "cell_type": "code",
      "metadata": {
        "id": "q1ekzyIIiirH"
      },
      "source": [
        "tfhub_handle_preprocess = \"https://tfhub.dev/tensorflow/bert_en_uncased_preprocess/3\"\n",
        "tfhub_handle_encoder = \"https://tfhub.dev/tensorflow/small_bert/bert_en_uncased_L-4_H-512_A-8/2\""
      ],
      "execution_count": 25,
      "outputs": []
    },
    {
      "cell_type": "code",
      "metadata": {
        "id": "BBgTGylQiVTd"
      },
      "source": [
        "def build_classifier_model():\n",
        "  text_input = tf.keras.layers.Input(shape=(), dtype=tf.string, name='text')\n",
        "  preprocessing_layer = hub.KerasLayer(tfhub_handle_preprocess, name='preprocessing')\n",
        "  encoder_inputs = preprocessing_layer(text_input)\n",
        "  encoder = hub.KerasLayer(tfhub_handle_encoder, trainable=True, name='BERT_encoder')\n",
        "  outputs = encoder(encoder_inputs)\n",
        "  net = outputs['pooled_output']\n",
        "  net = tf.keras.layers.BatchNormalization()(net)\n",
        "  net = tf.keras.layers.Dropout(0.1)(net)\n",
        "  #net = tf.keras.layers.Dense(1, activation=None, name='classifier')(net)\n",
        "  net = tf.keras.layers.Dense(1, activation='sigmoid', name='classifier')(net)\n",
        "  return tf.keras.Model(text_input, net)"
      ],
      "execution_count": 26,
      "outputs": []
    },
    {
      "cell_type": "code",
      "metadata": {
        "id": "-KVx688HjbUz"
      },
      "source": [
        "# Data example\n",
        "text_test = [X_train[0]]"
      ],
      "execution_count": 27,
      "outputs": []
    },
    {
      "cell_type": "code",
      "metadata": {
        "colab": {
          "base_uri": "https://localhost:8080/"
        },
        "id": "ygeUE0BHjNh-",
        "outputId": "964d7f4c-31ba-424c-f646-634a68624e03"
      },
      "source": [
        "# To test a built model\n",
        "classifier_model = build_classifier_model()\n",
        "bert_raw_result = classifier_model(tf.constant(text_test))\n",
        "#print(tf.sigmoid(bert_raw_result))\n",
        "print(bert_raw_result)"
      ],
      "execution_count": 28,
      "outputs": [
        {
          "output_type": "stream",
          "text": [
            "tf.Tensor([[0.76244724]], shape=(1, 1), dtype=float32)\n"
          ],
          "name": "stdout"
        }
      ]
    },
    {
      "cell_type": "code",
      "metadata": {
        "colab": {
          "base_uri": "https://localhost:8080/",
          "height": 564
        },
        "id": "4OALmQ1mjRRN",
        "outputId": "a1867bfc-878d-4d52-834c-a0d90be4ce98"
      },
      "source": [
        "# Display model structure\n",
        "tf.keras.utils.plot_model(classifier_model)\n"
      ],
      "execution_count": 29,
      "outputs": [
        {
          "output_type": "execute_result",
          "data": {
            "image/png": "[encoded data removed]",
            "text/plain": [
              "<IPython.core.display.Image object>"
            ]
          },
          "metadata": {},
          "execution_count": 29
        }
      ]
    },
    {
      "cell_type": "markdown",
      "metadata": {
        "id": "VUT0Wr6dNZHw"
      },
      "source": [
        "**4. Train Model**"
      ]
    },
    {
      "cell_type": "code",
      "metadata": {
        "id": "7Vi2VKqBjged"
      },
      "source": [
        "loss = tf.keras.losses.BinaryCrossentropy(from_logits=False)\n",
        "metrics = tf.metrics.BinaryAccuracy()"
      ],
      "execution_count": 30,
      "outputs": []
    },
    {
      "cell_type": "code",
      "metadata": {
        "id": "lj-ujiQ5jliZ"
      },
      "source": [
        "epochs = 30\n",
        "steps_per_epoch = len(X)\n",
        "num_train_steps = steps_per_epoch * epochs\n",
        "num_warmup_steps = int(0.1*num_train_steps)\n",
        "\n",
        "init_lr = 3e-5\n",
        "optimizer = optimization.create_optimizer(init_lr=init_lr,\n",
        "                                          num_train_steps=num_train_steps,\n",
        "                                          num_warmup_steps=num_warmup_steps,\n",
        "                                          optimizer_type='adamw')"
      ],
      "execution_count": 31,
      "outputs": []
    },
    {
      "cell_type": "code",
      "metadata": {
        "id": "tA5lwrPGk-rH"
      },
      "source": [
        "classifier_model.compile(optimizer=optimizer,\n",
        "                         loss=loss,\n",
        "                         metrics=metrics)"
      ],
      "execution_count": 32,
      "outputs": []
    },
    {
      "cell_type": "code",
      "metadata": {
        "colab": {
          "base_uri": "https://localhost:8080/"
        },
        "id": "Uatnit99kG6g",
        "outputId": "6173c3d7-ccae-470c-c37e-2144f1ee9b62"
      },
      "source": [
        "print(f'Model leveraged from {tfhub_handle_encoder}')\n",
        "history = classifier_model.fit(X_train,\n",
        "                               y_train,\n",
        "                               validation_data = (X_test, y_test),\n",
        "                               epochs=epochs)"
      ],
      "execution_count": 33,
      "outputs": [
        {
          "output_type": "stream",
          "text": [
            "Model leveraged from https://tfhub.dev/tensorflow/small_bert/bert_en_uncased_L-4_H-512_A-8/2\n",
            "Epoch 1/30\n",
            "50/50 [==============================] - 286s 6s/step - loss: 0.8870 - binary_accuracy: 0.4915 - val_loss: 0.6878 - val_binary_accuracy: 0.5729\n",
            "Epoch 2/30\n",
            "50/50 [==============================] - 280s 6s/step - loss: 0.8937 - binary_accuracy: 0.4789 - val_loss: 0.6928 - val_binary_accuracy: 0.5704\n",
            "Epoch 3/30\n",
            "50/50 [==============================] - 280s 6s/step - loss: 0.8763 - binary_accuracy: 0.4965 - val_loss: 0.7005 - val_binary_accuracy: 0.5578\n",
            "Epoch 4/30\n",
            "50/50 [==============================] - 280s 6s/step - loss: 0.8561 - binary_accuracy: 0.4984 - val_loss: 0.7106 - val_binary_accuracy: 0.5704\n",
            "Epoch 5/30\n",
            "50/50 [==============================] - 280s 6s/step - loss: 0.8327 - binary_accuracy: 0.5079 - val_loss: 0.7217 - val_binary_accuracy: 0.5477\n",
            "Epoch 6/30\n",
            "50/50 [==============================] - 280s 6s/step - loss: 0.8250 - binary_accuracy: 0.5028 - val_loss: 0.7300 - val_binary_accuracy: 0.5327\n",
            "Epoch 7/30\n",
            "50/50 [==============================] - 280s 6s/step - loss: 0.7919 - binary_accuracy: 0.5324 - val_loss: 0.7421 - val_binary_accuracy: 0.5302\n",
            "Epoch 8/30\n",
            "50/50 [==============================] - 281s 6s/step - loss: 0.7907 - binary_accuracy: 0.5280 - val_loss: 0.7449 - val_binary_accuracy: 0.5402\n",
            "Epoch 9/30\n",
            "50/50 [==============================] - 280s 6s/step - loss: 0.7807 - binary_accuracy: 0.5273 - val_loss: 0.7460 - val_binary_accuracy: 0.5402\n",
            "Epoch 10/30\n",
            "50/50 [==============================] - 280s 6s/step - loss: 0.7565 - binary_accuracy: 0.5393 - val_loss: 0.7414 - val_binary_accuracy: 0.5503\n",
            "Epoch 11/30\n",
            "50/50 [==============================] - 280s 6s/step - loss: 0.7276 - binary_accuracy: 0.5563 - val_loss: 0.7491 - val_binary_accuracy: 0.5427\n",
            "Epoch 12/30\n",
            "50/50 [==============================] - 280s 6s/step - loss: 0.7237 - binary_accuracy: 0.5707 - val_loss: 0.7482 - val_binary_accuracy: 0.5352\n",
            "Epoch 13/30\n",
            "50/50 [==============================] - 282s 6s/step - loss: 0.7089 - binary_accuracy: 0.5827 - val_loss: 0.7444 - val_binary_accuracy: 0.5578\n",
            "Epoch 14/30\n",
            "50/50 [==============================] - 281s 6s/step - loss: 0.7152 - binary_accuracy: 0.5827 - val_loss: 0.7544 - val_binary_accuracy: 0.5151\n",
            "Epoch 15/30\n",
            "50/50 [==============================] - 280s 6s/step - loss: 0.6796 - binary_accuracy: 0.6021 - val_loss: 0.7531 - val_binary_accuracy: 0.5151\n",
            "Epoch 16/30\n",
            "50/50 [==============================] - 280s 6s/step - loss: 0.6723 - binary_accuracy: 0.6065 - val_loss: 0.7713 - val_binary_accuracy: 0.5075\n",
            "Epoch 17/30\n",
            "50/50 [==============================] - 280s 6s/step - loss: 0.6599 - binary_accuracy: 0.6078 - val_loss: 0.7730 - val_binary_accuracy: 0.4899\n",
            "Epoch 18/30\n",
            "50/50 [==============================] - 280s 6s/step - loss: 0.6370 - binary_accuracy: 0.6386 - val_loss: 0.7721 - val_binary_accuracy: 0.5276\n",
            "Epoch 19/30\n",
            "50/50 [==============================] - 280s 6s/step - loss: 0.6114 - binary_accuracy: 0.6644 - val_loss: 0.7667 - val_binary_accuracy: 0.5402\n",
            "Epoch 20/30\n",
            "50/50 [==============================] - 280s 6s/step - loss: 0.6015 - binary_accuracy: 0.6744 - val_loss: 0.7736 - val_binary_accuracy: 0.5427\n",
            "Epoch 21/30\n",
            "50/50 [==============================] - 280s 6s/step - loss: 0.5735 - binary_accuracy: 0.7109 - val_loss: 0.7853 - val_binary_accuracy: 0.5302\n",
            "Epoch 22/30\n",
            "50/50 [==============================] - 281s 6s/step - loss: 0.5484 - binary_accuracy: 0.7341 - val_loss: 0.7974 - val_binary_accuracy: 0.5352\n",
            "Epoch 23/30\n",
            "50/50 [==============================] - 281s 6s/step - loss: 0.5458 - binary_accuracy: 0.7228 - val_loss: 0.8131 - val_binary_accuracy: 0.5176\n",
            "Epoch 24/30\n",
            "50/50 [==============================] - 281s 6s/step - loss: 0.4962 - binary_accuracy: 0.7555 - val_loss: 0.8064 - val_binary_accuracy: 0.5276\n",
            "Epoch 25/30\n",
            "50/50 [==============================] - 282s 6s/step - loss: 0.4916 - binary_accuracy: 0.7568 - val_loss: 0.8551 - val_binary_accuracy: 0.5126\n",
            "Epoch 26/30\n",
            "50/50 [==============================] - 281s 6s/step - loss: 0.4653 - binary_accuracy: 0.7788 - val_loss: 0.8612 - val_binary_accuracy: 0.5050\n",
            "Epoch 27/30\n",
            "50/50 [==============================] - 280s 6s/step - loss: 0.4187 - binary_accuracy: 0.8171 - val_loss: 0.8754 - val_binary_accuracy: 0.5503\n",
            "Epoch 28/30\n",
            "50/50 [==============================] - 280s 6s/step - loss: 0.4155 - binary_accuracy: 0.8190 - val_loss: 0.9118 - val_binary_accuracy: 0.5075\n",
            "Epoch 29/30\n",
            "50/50 [==============================] - 281s 6s/step - loss: 0.3781 - binary_accuracy: 0.8504 - val_loss: 0.9210 - val_binary_accuracy: 0.5000\n",
            "Epoch 30/30\n",
            "50/50 [==============================] - 282s 6s/step - loss: 0.3432 - binary_accuracy: 0.8730 - val_loss: 0.9359 - val_binary_accuracy: 0.5151\n"
          ],
          "name": "stdout"
        }
      ]
    },
    {
      "cell_type": "markdown",
      "metadata": {
        "id": "pK9pnigCN7GM"
      },
      "source": [
        "**5. Model Evalution**"
      ]
    },
    {
      "cell_type": "code",
      "metadata": {
        "colab": {
          "base_uri": "https://localhost:8080/"
        },
        "id": "qxsUt0Cik14F",
        "outputId": "e901dc94-edb9-4db6-f41b-67d1d47aa64d"
      },
      "source": [
        "loss, accuracy = classifier_model.evaluate(X_test, y_test)\n",
        "\n",
        "print(f'Loss: {loss}')\n",
        "print(f'Accuracy: {accuracy}')"
      ],
      "execution_count": 34,
      "outputs": [
        {
          "output_type": "stream",
          "text": [
            "13/13 [==============================] - 20s 2s/step - loss: 0.9359 - binary_accuracy: 0.5151\n",
            "Loss: 0.9359261989593506\n",
            "Accuracy: 0.5150753855705261\n"
          ],
          "name": "stdout"
        }
      ]
    },
    {
      "cell_type": "code",
      "metadata": {
        "colab": {
          "base_uri": "https://localhost:8080/",
          "height": 438
        },
        "id": "fX9MRb9fzM9Z",
        "outputId": "8ecbd938-63f4-41d7-e75c-df06059b38b7"
      },
      "source": [
        "history_dict = history.history\n",
        "print(history_dict.keys())\n",
        "\n",
        "acc = history_dict['binary_accuracy']\n",
        "val_acc = history_dict['val_binary_accuracy']\n",
        "loss = history_dict['loss']\n",
        "val_loss = history_dict['val_loss']\n",
        "\n",
        "epochs = range(1, len(acc) + 1)\n",
        "fig = plt.figure(figsize=(10, 6))\n",
        "fig.tight_layout()\n",
        "\n",
        "plt.subplot(2, 1, 1)\n",
        "# \"bo\" is for \"blue dot\"\n",
        "plt.plot(epochs, loss, 'r', label='Training loss')\n",
        "# b is for \"solid blue line\"\n",
        "plt.plot(epochs, val_loss, 'b', label='Validation loss')\n",
        "plt.title('Training and validation loss')\n",
        "plt.xlabel('Epochs')\n",
        "plt.ylabel('Loss')\n",
        "plt.legend()\n",
        "\n",
        "plt.subplot(2, 1, 2)\n",
        "plt.plot(epochs, acc, 'r', label='Training acc')\n",
        "plt.plot(epochs, val_acc, 'b', label='Validation acc')\n",
        "plt.title('Training and validation accuracy')\n",
        "plt.xlabel('Epochs')\n",
        "plt.ylabel('Accuracy')\n",
        "plt.legend(loc='lower right')"
      ],
      "execution_count": 35,
      "outputs": [
        {
          "output_type": "stream",
          "text": [
            "dict_keys(['loss', 'binary_accuracy', 'val_loss', 'val_binary_accuracy'])\n"
          ],
          "name": "stdout"
        },
        {
          "output_type": "execute_result",
          "data": {
            "text/plain": [
              "<matplotlib.legend.Legend at 0x7f066eb58750>"
            ]
          },
          "metadata": {},
          "execution_count": 35
        },
        {
          "output_type": "display_data",
          "data": {
            "image/png": "[encoded data removed]",
            "text/plain": [
              "<Figure size 720x432 with 2 Axes>"
            ]
          },
          "metadata": {
            "needs_background": "light"
          }
        }
      ]
    },
    {
      "cell_type": "code",
      "metadata": {
        "colab": {
          "base_uri": "https://localhost:8080/"
        },
        "id": "QRr9cKcqzSmZ",
        "outputId": "dc29d30d-f420-47f3-ad14-fb4889a18e8c"
      },
      "source": [
        "dataset_name = 'news_prediction'\n",
        "saved_model_path = './{}_bert'.format(dataset_name.replace('/', '_'))\n",
        "\n",
        "classifier_model.save(saved_model_path, include_optimizer=False)"
      ],
      "execution_count": 36,
      "outputs": [
        {
          "output_type": "stream",
          "text": [
            "WARNING:absl:Found untraced functions such as restored_function_body, restored_function_body, restored_function_body, restored_function_body, restored_function_body while saving (showing 5 of 315). These functions will not be directly callable after loading.\n"
          ],
          "name": "stderr"
        }
      ]
    },
    {
      "cell_type": "markdown",
      "metadata": {
        "id": "j8RQJjVrCa5j"
      },
      "source": [
        "**6. Model Prediction**"
      ]
    },
    {
      "cell_type": "code",
      "metadata": {
        "id": "9k1miSe7ziHa"
      },
      "source": [
        "reloaded_model = tf.saved_model.load(saved_model_path)\n"
      ],
      "execution_count": 37,
      "outputs": []
    },
    {
      "cell_type": "code",
      "metadata": {
        "colab": {
          "base_uri": "https://localhost:8080/"
        },
        "id": "04BSEJ0VzjNZ",
        "outputId": "56d4b041-bd8d-4fb5-e807-2d7ee56f3b76"
      },
      "source": [
        "def print_my_examples(inputs, results):\n",
        "  result_for_printing = \\\n",
        "    [f'input: {inputs[i]:<30} : score: {results[i][0]:.6f}'\n",
        "                         for i in range(len(inputs))]\n",
        "  print(*result_for_printing, sep='\\n')\n",
        "  print()\n",
        "\n",
        "\n",
        "examples = X_test[0:5]\n",
        "\n",
        "#reloaded_results = tf.sigmoid(reloaded_model(tf.constant(examples)))\n",
        "reloaded_results = reloaded_model(tf.constant(examples))\n",
        "\n",
        "print('Results from the saved model:')\n",
        "print_my_examples(examples, reloaded_results)"
      ],
      "execution_count": 38,
      "outputs": [
        {
          "output_type": "stream",
          "text": [
            "Results from the saved model:\n",
            "input: 'Irish Government in secret talks about internet censorship',\"Nick Clegg's rise could lock Rupert Murdoch and the media elite out of UK politics \",'Millions stolen from Iraq rebuilding: Special task force is analyzing every transaction and person connected to Iraq reconstruction funding in order to hold people accountable',' two girls living in Northern Ireland have been made the subject of a court order to stop them being forced into marriage in Pakistan','Dramatic footage of ash and lightning above Iceland volcano','Forget Eyjafjallajokull, Mt. Katla Is Now Getting Ready To Rumble',\"$2 billion wind-energy project in Romania, largest in world, 5x larger than Europe's current largest, 3x proposed offshore Massachusetts project\",'Iceland volcano causes fall in carbon emissions as eruption grounds aircraft','Tibetans need your help in the wake of the recent earthquake, over 100,000 are homeless.','Palestinian state certain - Israeli Defence Minister Ehud Barak says Israel must eventually give Palestinians their independence.','TOKYO  Thousands of people rallied on a remote Japanese island Sunday, protesting against a possible government move to relocate a major U.S. air base there.','Lesbian couple becomes first same sex couple to sign joint birth certificate','The Israeli Embassy reopened in Wellington, New Zealand, today, after an eight-year absence. Apparently the relationship was screwed after two reported Mossad agents were caught and jailed for trying to illegally obtain New Zealand passports in 2004, while 2 others escaped.','Military Increasingly Convinced of N.Korean Sub Attack',\"BBC News - Nick Clegg brands Labour and Conservatives 'desperate'\",\"Britain 'handed over prisoners in Afghanistan to be tortured'\",'Saudi poachers boast of killing endangered animals in YouTube video',\"Afghan children are dying: The government told them it was finally safe to come back - even built them a clinic, a school, a playground. But what good's a playground when you have nothing to eat?\",'Defense Minister Ehud Barak said there is no reason for a war to break out this summer: Israel must allow the Palestinians to \"rule themselves\"','Melbourne Gangland killer Carl Williams, beaten to death in prison.',\"India's unease about strategic power, and its resemblance to a gigantic European Union united only by the English language, reflects its ongoing search for a new international identity. In this quest, India is impaired by its lack of practice in the exercise of power on a grand scale.\",'Should Pope Benedict step down? The case against him for collusion in child sex-abuse is much stronger than the case against a number of Irish bishops who have been forced to resign.','Catholic Church in Worst Credibility Crisis Since Reformation, Theologian Tells Bishops','The economic impact of the Iceland volcano cloud: \"European countries wouldn\\'t get any growth this year\"' : score: 0.513245\n",
            "input: Suicide bomb instructor accidentally gives live demonstration to pupils - 22 dead,Feb. 11 Is 'The Day We Fight Back' Against NSA Surveillance | More than 5,300 web-based companies and other organizations, including Reddit, Imgur, Tumblr, Mozilla the Electronic Frontier Foundation and the ACLU, have joined forces to protest National Security Agency surveillance on Feb. 11.,Donald Trump loses legal challenge to windfarm near his Scottish golf resort.,Canada's new citizenship bill gives the government power to revoke citizenship from natural born citizens.,Why Mexico's 'drug war' is not about drugs. Many of the civilians taking on the gangs say they care little about illicit narcotics. We aren't against drug traffickers. We are against organized crime.,An Australian organic farmer lost his certification due to GM seeds being spread from his neighbour's farm. He is now suing his neighbour in what might be a world first (xpost),Fisherman nets centuries-old statue of Greek god Apollo in Gaza Strip,New fossil site found in Canada could be worlds most important.,UK to ban smoking in cars carrying children by 2015,Kaspersky Lab Uncovers The Mask: One of the Most Advanced Global Cyber-espionage Operations to Date,NASAs Mars orbiter sees signs of seasonal water flow on Mars surface,An Afghan girl has been diagnosed with polio in Kabul - the capital's first case since the Taliban's fall in 2001. Polio remains endemic in Afghanistan, Pakistan and northern Nigeria. Islamic extremists have obstructed health workers, preventing polio eradication campaigns from taking place.,Bin Laden death images subject to purge, emails reveal,Revealed: Big Pharma's hidden links to NHS policy,Australian mother hides her children under a blanket in neighbours dam as one of over 100 bushfires in Victoria rages above their heads. They survived after being in the water for over an hour.,Company in France becomes first in country to ban wearing of Muslim headscarves at work,Lost for centuries, a rare bronze statue of the Greek god Apollo has mysteriously resurfaced in the Gaza Strip, only to be seized by police and vanish almost immediately from view.,Major NSA intelligence facility established in Jerusalem,Tiger evades hunters, kills 10th person in India,Australian TV Host slams his own network for paying $2million to a convicted drug smuggler for an interview after spending 9 years in Indonesian prison.,Algeria plane crash 'kills 103',Indian couple kills Iranian student for refusing threesome,A senior official connected with the seasonal dolphin hunt in Taiji, Wakayama, Japan, is defending the tradition as painless to the small cetaceans and is inviting U.S. Ambassador to Japan Caroline Kennedy to see for herself.,Intellectual property rights: US set to punish India : score: 0.113493\n",
            "input: 'Wow, it turns out the guy who was \"paralyzed but fully aware for 23 years\" isn\\'t.. he\\'s a vegetable and the people saying he\\'s communicating are really faking his communication. ',\"Prof Nutt (Gov't scientist who was sacked over Cannabis research) cuts presenter down to size on Sky News\",'UK jails schizophrenic for refusal to decrypt files',\"The world's biggest animal sacrifice begins today\",'Screw you Murdoch. BBC have no plans to charge for online news','Leaked documents reveal Tony Blair lied about Iraq','Microbiologist who warned that flu vaccine was bioweapon &amp; arrested by FBI for allegedly trying to bomb White House was expert in manipulation of virii, with 28 publications',\"India's parliament is up in arms over the leak of a report, 17 years in the making, on the destruction of a mosque, the Babri Masjid, in 1992. The report exposes the complicity of India's right-wing Bharatiya Janata Party in the riot and clashes that followed.\",'Bank of England gave SECRET bailout loans to RBS and HBOS','DNA nation: British police keep a much larger DNA database than anyone else. USA is 5th',\"An activist in China has been sentenced to 3 years in prison for blogging about poorly built schools that collapsed during China's massive earthquake last year, which killed thousands of children.\",\"Australian airport takes away a paralympian's wheelchair and he ends up crawling through the airport to board his plane.\",\"'Cruel, illegal, immoral': Human Rights Watch condemns UK's role in torture. Pressure for inquiry grows as torturers themselves allege British complicity.\",'Police routinely arresting people to get DNA','China executes two over tainted milk powder scandal',\"There are fears in Japan that a potentially deadly Australian invader is beginning to close in on some of the country's most crowded urban areas.\",'In Afghanistan, People hate the Americans from the bottom of their hearts ','The number of deaths by cause over the past 300 days - this really puts the swine flu \"pandemic\" into perspective',\"Political dynasties die hard in Philippines - Against death toll from Monday's violence, now at 46, political warlordism looms large\",'UK role in torture of its own citizens in Pakistan condemned by HRW as cruel, counter-productive and in clear breach of international law','Drunk police accused of beating a man to death.','Call girl who made Berlusconi look bad receives death threats','Blackwater secret war in Pakistan exposed - Taliban \\r\\nassertions that Blackwater bombed civilians need to \\r\\nbe investigated','Kelvin Thomson stepped up his population-control campaign last week, releasing a 14-point plan to cap Australias population at 26 million.' : score: 0.397867\n",
            "input: EgyptAir Flight MS804 disappears from radar during Paris-Cairo flight,McDonald's fish: Row over sustainability 'cover-up'- The document shows that the government was aware of made-up data and illegal practices such as the dumping of vast quantities of unwanted fish. There are also concerns that unlawful fishing in NZ waters is threatening the world's rarest dolphin,Pope condemns \"bloodsuckers\" who exploit poor workers: Pope says making \"slaves\" out of workers and setting unfair contracts is a mortal sin,India just proposed an oil-for-drugs deal with Venezuela, Country is facing severe shortages of even basic supplies such as food, water and medicines, desperately short of medical supplies, lacking as much as 80 percent of what it needs to treat its population,Portugal runs for four days straight on renewable energy alone: Zero emission milestone reached as country is powered by just wind, solar and hydro-generated electricity for 107 hours,Bayer offers 42 Billion to purchase Monsanto. Agricultural mega merger looms.,Authorities shut down secret Islamic school in Brussels: report,Iran tells Hezbollah to stop attacking Israel, turn attention to Saudi Arabia,Egyptian officials confirm that EgyptAir flight crashed with 56 persons on board,Ninety-two children and three teachers were poisoned in northern Peru when a plane fumigating nearby fields sprayed a weed-killer too close to their school.,Robin Hood hacker donates $11,000 of stolen bitcoin to help fight ISIS,Mob burns Venezuelan man alive over $5 as rule of law fails,Boris Johnson wins most offensive Erdogan poem contest,A Secret Tunnel Found in Mexico May Finally Solve the Mysteries of Teotihuacn,Superbugs will 'kill every three seconds': Superbugs will kill someone every three seconds by 2050 unless the world acts now, a hugely influential report says,Canadian Prime Minister Justin Trudeau Accused of Elbowing Opposition Member of Parliament in The House of Commons.,Englands chief medical officer warns of antibiotic apocalypse,Venezuelan opposition tells military that it's time to choose,New Zealand Customs will lose the automatic right to examine people's smartphones and electronic devices at the border, under a government proposal.,Banks Sued by Investor Over Agency-Bond Rigging Claims.Depending on the securities that are included, the market could range from $9 trillion to $15 trillion.\"Defendants scheme was driven by greed and opportunity,\",Venezuelans are having to trade pharmaceutical drugs on social media as the country runs out of medicine,French security chief warns Islamic State plans wave of attacks in France,Russia under suspicion after sabotage of Swedish telecom mast,Large Azerbaijan plane crashes in Afghanistan : score: 0.961108\n",
            "input: Irish no-frills airline Ryanair confirmed its board has approved plans to start flying low-cost transatlantic routes starting from $14 in the next five years.,Strip-searched girl can't return to her school, Quebec judge rules . In the strip search, the girl was asked to remove all her clothing, including her underwear. No drugs were found.,Netanyahu: If I'm elected, there will be no Palestinian state,France aims to criminalize advertising with anorexic models,Frenchman hides Russian wife in a suitcase to sneak her into EU - Polish border guards have detained a French citizen who packed his Russian wife in a suitcase, attempting to smuggle her over the Belarus border. Officials noted later that she would've been able to enter EU legally.,Canadian universal drug plan would save billions, UBC researchers say: $1-$5.4 billion annual public cost offsetting $8.2 billion annual private sector cost,South Korea reduces water supply to North Korea,Ex Mossad head predicts dramatic improvement in US-Israel relations if Netanyahu loses election,ISIS Vows To Blow Up The White House, Big Ben And The Eiffel Tower,Spain finds Don Quixote writer Cervantes' tomb in Madrid,Germanys goal: Restoring Russia-annexed Crimea to Ukraine Its important despite, or because of, this to work for a peaceful solution and not rest until the full sovereignty and territorial integrity of Ukraine is restored, and of course this includes Crimea, Chancellor Angela Merkel said Monday,Russia says it would not hand back Crimea to Ukraine, despite warnings by the United States and European Union that they will not drop sanctions over the Black Sea peninsula's annexation a year ago,Mexico set to allow armed U.S. customs officials within its borders,Alert after 200 metal balls coated in cyanide stolen in raid at UK industrial firm,More coal plants are being cancelled than built. The number of cancelled coal projects across the world has outstripped those completed at a rate of two to one since 2010,Myanmar court jails three over 'insult to Buddhism' -- The men had used a picture of Buddha wearing headphones for an online promotion,Saudi Arabia says it will want same enrichment rights as Iran if nuclear deal is done | Prince al-Faisal: \"I've always said whatever comes out of these talks, we will want the same.\",France, Germany, and Italy to join China-led Bank.,Adelaide, Australia Catholic Archbishop Philip Wilson has been charged with concealing child sexual abuse,In slow opening of Cuban Internet, govt allows a public Wi-Fi network: Less than two months after Netflix opened up its services to Cuba, the island nation now apparently has a new, free public Wi-Fi space,US to maintain Crimea sanctions until Russian rule ends,Democratic Republic of Congo wants to open up Virunga national park to oil exploration - DRC government to consult Unesco to explore judiciously in Africas most biodiverse park and a world heritage site,Latvia reports two Russian black hole subs and research ship on edge of territorial waters,Red Cross: People in Vanuatu 'desperate' for food, water and shelter : score: 0.344266\n",
            "\n"
          ],
          "name": "stdout"
        }
      ]
    },
    {
      "cell_type": "code",
      "metadata": {
        "id": "aXPbyGnD1Lab",
        "colab": {
          "base_uri": "https://localhost:8080/"
        },
        "outputId": "8d60b895-9321-48fc-9420-d74cebae1c71"
      },
      "source": [
        "#input data\n",
        "examples"
      ],
      "execution_count": 39,
      "outputs": [
        {
          "output_type": "execute_result",
          "data": {
            "text/plain": [
              "['\\'Irish Government in secret talks about internet censorship\\',\"Nick Clegg\\'s rise could lock Rupert Murdoch and the media elite out of UK politics \",\\'Millions stolen from Iraq rebuilding: Special task force is analyzing every transaction and person connected to Iraq reconstruction funding in order to hold people accountable\\',\\' two girls living in Northern Ireland have been made the subject of a court order to stop them being forced into marriage in Pakistan\\',\\'Dramatic footage of ash and lightning above Iceland volcano\\',\\'Forget Eyjafjallajokull, Mt. Katla Is Now Getting Ready To Rumble\\',\"$2 billion wind-energy project in Romania, largest in world, 5x larger than Europe\\'s current largest, 3x proposed offshore Massachusetts project\",\\'Iceland volcano causes fall in carbon emissions as eruption grounds aircraft\\',\\'Tibetans need your help in the wake of the recent earthquake, over 100,000 are homeless.\\',\\'Palestinian state certain - Israeli Defence Minister Ehud Barak says Israel must eventually give Palestinians their independence.\\',\\'TOKYO  Thousands of people rallied on a remote Japanese island Sunday, protesting against a possible government move to relocate a major U.S. air base there.\\',\\'Lesbian couple becomes first same sex couple to sign joint birth certificate\\',\\'The Israeli Embassy reopened in Wellington, New Zealand, today, after an eight-year absence. Apparently the relationship was screwed after two reported Mossad agents were caught and jailed for trying to illegally obtain New Zealand passports in 2004, while 2 others escaped.\\',\\'Military Increasingly Convinced of N.Korean Sub Attack\\',\"BBC News - Nick Clegg brands Labour and Conservatives \\'desperate\\'\",\"Britain \\'handed over prisoners in Afghanistan to be tortured\\'\",\\'Saudi poachers boast of killing endangered animals in YouTube video\\',\"Afghan children are dying: The government told them it was finally safe to come back - even built them a clinic, a school, a playground. But what good\\'s a playground when you have nothing to eat?\",\\'Defense Minister Ehud Barak said there is no reason for a war to break out this summer: Israel must allow the Palestinians to \"rule themselves\"\\',\\'Melbourne Gangland killer Carl Williams, beaten to death in prison.\\',\"India\\'s unease about strategic power, and its resemblance to a gigantic European Union united only by the English language, reflects its ongoing search for a new international identity. In this quest, India is impaired by its lack of practice in the exercise of power on a grand scale.\",\\'Should Pope Benedict step down? The case against him for collusion in child sex-abuse is much stronger than the case against a number of Irish bishops who have been forced to resign.\\',\\'Catholic Church in Worst Credibility Crisis Since Reformation, Theologian Tells Bishops\\',\\'The economic impact of the Iceland volcano cloud: \"European countries wouldn\\\\\\'t get any growth this year\"\\'',\n",
              " \"Suicide bomb instructor accidentally gives live demonstration to pupils - 22 dead,Feb. 11 Is 'The Day We Fight Back' Against NSA Surveillance | More than 5,300 web-based companies and other organizations, including Reddit, Imgur, Tumblr, Mozilla the Electronic Frontier Foundation and the ACLU, have joined forces to protest National Security Agency surveillance on Feb. 11.,Donald Trump loses legal challenge to windfarm near his Scottish golf resort.,Canada's new citizenship bill gives the government power to revoke citizenship from natural born citizens.,Why Mexico's 'drug war' is not about drugs. Many of the civilians taking on the gangs say they care little about illicit narcotics. We aren't against drug traffickers. We are against organized crime.,An Australian organic farmer lost his certification due to GM seeds being spread from his neighbour's farm. He is now suing his neighbour in what might be a world first (xpost),Fisherman nets centuries-old statue of Greek god Apollo in Gaza Strip,New fossil site found in Canada could be worlds most important.,UK to ban smoking in cars carrying children by 2015,Kaspersky Lab Uncovers The Mask: One of the Most Advanced Global Cyber-espionage Operations to Date,NASAs Mars orbiter sees signs of seasonal water flow on Mars surface,An Afghan girl has been diagnosed with polio in Kabul - the capital's first case since the Taliban's fall in 2001. Polio remains endemic in Afghanistan, Pakistan and northern Nigeria. Islamic extremists have obstructed health workers, preventing polio eradication campaigns from taking place.,Bin Laden death images subject to purge, emails reveal,Revealed: Big Pharma's hidden links to NHS policy,Australian mother hides her children under a blanket in neighbours dam as one of over 100 bushfires in Victoria rages above their heads. They survived after being in the water for over an hour.,Company in France becomes first in country to ban wearing of Muslim headscarves at work,Lost for centuries, a rare bronze statue of the Greek god Apollo has mysteriously resurfaced in the Gaza Strip, only to be seized by police and vanish almost immediately from view.,Major NSA intelligence facility established in Jerusalem,Tiger evades hunters, kills 10th person in India,Australian TV Host slams his own network for paying $2million to a convicted drug smuggler for an interview after spending 9 years in Indonesian prison.,Algeria plane crash 'kills 103',Indian couple kills Iranian student for refusing threesome,A senior official connected with the seasonal dolphin hunt in Taiji, Wakayama, Japan, is defending the tradition as painless to the small cetaceans and is inviting U.S. Ambassador to Japan Caroline Kennedy to see for herself.,Intellectual property rights: US set to punish India\",\n",
              " '\\'Wow, it turns out the guy who was \"paralyzed but fully aware for 23 years\" isn\\\\\\'t.. he\\\\\\'s a vegetable and the people saying he\\\\\\'s communicating are really faking his communication. \\',\"Prof Nutt (Gov\\'t scientist who was sacked over Cannabis research) cuts presenter down to size on Sky News\",\\'UK jails schizophrenic for refusal to decrypt files\\',\"The world\\'s biggest animal sacrifice begins today\",\\'Screw you Murdoch. BBC have no plans to charge for online news\\',\\'Leaked documents reveal Tony Blair lied about Iraq\\',\\'Microbiologist who warned that flu vaccine was bioweapon &amp; arrested by FBI for allegedly trying to bomb White House was expert in manipulation of virii, with 28 publications\\',\"India\\'s parliament is up in arms over the leak of a report, 17 years in the making, on the destruction of a mosque, the Babri Masjid, in 1992. The report exposes the complicity of India\\'s right-wing Bharatiya Janata Party in the riot and clashes that followed.\",\\'Bank of England gave SECRET bailout loans to RBS and HBOS\\',\\'DNA nation: British police keep a much larger DNA database than anyone else. USA is 5th\\',\"An activist in China has been sentenced to 3 years in prison for blogging about poorly built schools that collapsed during China\\'s massive earthquake last year, which killed thousands of children.\",\"Australian airport takes away a paralympian\\'s wheelchair and he ends up crawling through the airport to board his plane.\",\"\\'Cruel, illegal, immoral\\': Human Rights Watch condemns UK\\'s role in torture. Pressure for inquiry grows as torturers themselves allege British complicity.\",\\'Police routinely arresting people to get DNA\\',\\'China executes two over tainted milk powder scandal\\',\"There are fears in Japan that a potentially deadly Australian invader is beginning to close in on some of the country\\'s most crowded urban areas.\",\\'In Afghanistan, People hate the Americans from the bottom of their hearts \\',\\'The number of deaths by cause over the past 300 days - this really puts the swine flu \"pandemic\" into perspective\\',\"Political dynasties die hard in Philippines - Against death toll from Monday\\'s violence, now at 46, political warlordism looms large\",\\'UK role in torture of its own citizens in Pakistan condemned by HRW as cruel, counter-productive and in clear breach of international law\\',\\'Drunk police accused of beating a man to death.\\',\\'Call girl who made Berlusconi look bad receives death threats\\',\\'Blackwater secret war in Pakistan exposed - Taliban \\\\r\\\\nassertions that Blackwater bombed civilians need to \\\\r\\\\nbe investigated\\',\\'Kelvin Thomson stepped up his population-control campaign last week, releasing a 14-point plan to cap Australias population at 26 million.\\'',\n",
              " 'EgyptAir Flight MS804 disappears from radar during Paris-Cairo flight,McDonald\\'s fish: Row over sustainability \\'cover-up\\'- The document shows that the government was aware of made-up data and illegal practices such as the dumping of vast quantities of unwanted fish. There are also concerns that unlawful fishing in NZ waters is threatening the world\\'s rarest dolphin,Pope condemns \"bloodsuckers\" who exploit poor workers: Pope says making \"slaves\" out of workers and setting unfair contracts is a mortal sin,India just proposed an oil-for-drugs deal with Venezuela, Country is facing severe shortages of even basic supplies such as food, water and medicines, desperately short of medical supplies, lacking as much as 80 percent of what it needs to treat its population,Portugal runs for four days straight on renewable energy alone: Zero emission milestone reached as country is powered by just wind, solar and hydro-generated electricity for 107 hours,Bayer offers 42 Billion to purchase Monsanto. Agricultural mega merger looms.,Authorities shut down secret Islamic school in Brussels: report,Iran tells Hezbollah to stop attacking Israel, turn attention to Saudi Arabia,Egyptian officials confirm that EgyptAir flight crashed with 56 persons on board,Ninety-two children and three teachers were poisoned in northern Peru when a plane fumigating nearby fields sprayed a weed-killer too close to their school.,Robin Hood hacker donates $11,000 of stolen bitcoin to help fight ISIS,Mob burns Venezuelan man alive over $5 as rule of law fails,Boris Johnson wins most offensive Erdogan poem contest,A Secret Tunnel Found in Mexico May Finally Solve the Mysteries of Teotihuacn,Superbugs will \\'kill every three seconds\\': Superbugs will kill someone every three seconds by 2050 unless the world acts now, a hugely influential report says,Canadian Prime Minister Justin Trudeau Accused of Elbowing Opposition Member of Parliament in The House of Commons.,Englands chief medical officer warns of antibiotic apocalypse,Venezuelan opposition tells military that it\\'s time to choose,New Zealand Customs will lose the automatic right to examine people\\'s smartphones and electronic devices at the border, under a government proposal.,Banks Sued by Investor Over Agency-Bond Rigging Claims.Depending on the securities that are included, the market could range from $9 trillion to $15 trillion.\"Defendants scheme was driven by greed and opportunity,\",Venezuelans are having to trade pharmaceutical drugs on social media as the country runs out of medicine,French security chief warns Islamic State plans wave of attacks in France,Russia under suspicion after sabotage of Swedish telecom mast,Large Azerbaijan plane crashes in Afghanistan',\n",
              " 'Irish no-frills airline Ryanair confirmed its board has approved plans to start flying low-cost transatlantic routes starting from $14 in the next five years.,Strip-searched girl can\\'t return to her school, Quebec judge rules . In the strip search, the girl was asked to remove all her clothing, including her underwear. No drugs were found.,Netanyahu: If I\\'m elected, there will be no Palestinian state,France aims to criminalize advertising with anorexic models,Frenchman hides Russian wife in a suitcase to sneak her into EU - Polish border guards have detained a French citizen who packed his Russian wife in a suitcase, attempting to smuggle her over the Belarus border. Officials noted later that she would\\'ve been able to enter EU legally.,Canadian universal drug plan would save billions, UBC researchers say: $1-$5.4 billion annual public cost offsetting $8.2 billion annual private sector cost,South Korea reduces water supply to North Korea,Ex Mossad head predicts dramatic improvement in US-Israel relations if Netanyahu loses election,ISIS Vows To Blow Up The White House, Big Ben And The Eiffel Tower,Spain finds Don Quixote writer Cervantes\\' tomb in Madrid,Germanys goal: Restoring Russia-annexed Crimea to Ukraine Its important despite, or because of, this to work for a peaceful solution and not rest until the full sovereignty and territorial integrity of Ukraine is restored, and of course this includes Crimea, Chancellor Angela Merkel said Monday,Russia says it would not hand back Crimea to Ukraine, despite warnings by the United States and European Union that they will not drop sanctions over the Black Sea peninsula\\'s annexation a year ago,Mexico set to allow armed U.S. customs officials within its borders,Alert after 200 metal balls coated in cyanide stolen in raid at UK industrial firm,More coal plants are being cancelled than built. The number of cancelled coal projects across the world has outstripped those completed at a rate of two to one since 2010,Myanmar court jails three over \\'insult to Buddhism\\' -- The men had used a picture of Buddha wearing headphones for an online promotion,Saudi Arabia says it will want same enrichment rights as Iran if nuclear deal is done | Prince al-Faisal: \"I\\'ve always said whatever comes out of these talks, we will want the same.\",France, Germany, and Italy to join China-led Bank.,Adelaide, Australia Catholic Archbishop Philip Wilson has been charged with concealing child sexual abuse,In slow opening of Cuban Internet, govt allows a public Wi-Fi network: Less than two months after Netflix opened up its services to Cuba, the island nation now apparently has a new, free public Wi-Fi space,US to maintain Crimea sanctions until Russian rule ends,Democratic Republic of Congo wants to open up Virunga national park to oil exploration - DRC government to consult Unesco to explore judiciously in Africas most biodiverse park and a world heritage site,Latvia reports two Russian black hole subs and research ship on edge of territorial waters,Red Cross: People in Vanuatu \\'desperate\\' for food, water and shelter']"
            ]
          },
          "metadata": {},
          "execution_count": 39
        }
      ]
    },
    {
      "cell_type": "code",
      "metadata": {
        "colab": {
          "base_uri": "https://localhost:8080/"
        },
        "id": "BB62ZmLPBaCU",
        "outputId": "3e0ff7a0-393b-4015-957b-f240145c4f5b"
      },
      "source": [
        "#predicted output from the model\n",
        "reloaded_results"
      ],
      "execution_count": 40,
      "outputs": [
        {
          "output_type": "execute_result",
          "data": {
            "text/plain": [
              "<tf.Tensor: shape=(5, 1), dtype=float32, numpy=\n",
              "array([[0.51324487],\n",
              "       [0.11349344],\n",
              "       [0.39786693],\n",
              "       [0.9611077 ],\n",
              "       [0.3442657 ]], dtype=float32)>"
            ]
          },
          "metadata": {},
          "execution_count": 40
        }
      ]
    },
    {
      "cell_type": "code",
      "metadata": {
        "id": "p3wBqsZ8BhG4"
      },
      "source": [
        "# Threshold of classifying label 0 and 1 is 0.5\n",
        "predicted_label = []\n",
        "for i in reloaded_results:\n",
        "  if i >= 0.5:\n",
        "    predicted_label.append(1)\n",
        "  else:\n",
        "    predicted_label.append(0)"
      ],
      "execution_count": 42,
      "outputs": []
    },
    {
      "cell_type": "code",
      "metadata": {
        "colab": {
          "base_uri": "https://localhost:8080/"
        },
        "id": "Farer5f5B_jR",
        "outputId": "9c122b76-518d-41e0-8e4b-9a7f077d09d3"
      },
      "source": [
        "# Prediction\n",
        "# 0 = Positive OR Neutral\n",
        "# 1 = Negative \n",
        "print(predicted_label)"
      ],
      "execution_count": 45,
      "outputs": [
        {
          "output_type": "stream",
          "text": [
            "[1, 0, 0, 1, 0]\n"
          ],
          "name": "stdout"
        }
      ]
    },
    {
      "cell_type": "code",
      "metadata": {
        "id": "6TMbFVI5CKSz"
      },
      "source": [
        ""
      ],
      "execution_count": null,
      "outputs": []
    }
  ]
}